{
  "cells": [
    {
      "cell_type": "markdown",
      "id": "2b88e83c",
      "metadata": {
        "id": "2b88e83c"
      },
      "source": [
        "<h4><center><font color=\"1F4690\">PJJ PENGOLAHAN DATA MENGGUNAKAN PYTHON <br> <br> Rabu, 15 Juni 2022</font></center></h4>\n",
        "<div class=\"alert alert-info\"><h1 align=\"center\"><font color=\"1F4690\">Latihan Pagi Hari</font></h4></div>"
      ]
    },
    {
      "cell_type": "markdown",
      "id": "59484f80",
      "metadata": {
        "id": "59484f80"
      },
      "source": [
        "## Latihan 1\n",
        "***\n",
        "\n",
        "At the halfway point during the Rio Olympics, the United States had 70 medals, Great Britain had 38 medals, China had 45 medals, Russia had 30 medals, and Germany had 17 medals. Create a dictionary assigned to the variable **medal_count** with the country names as the keys and the number of medals the country had as each key’s value"
      ]
    },
    {
      "cell_type": "code",
      "source": [
        "medal_count = {\n",
        "    \"United States\" : 70,\n",
        "    \"Great Britain\" : 38,\n",
        "    \"China\" : 45,\n",
        "    \"Rusia\" : 30,\n",
        "    \"Germany\" : 17\n",
        "}"
      ],
      "metadata": {
        "id": "RCEaIWEBL1Kh"
      },
      "id": "RCEaIWEBL1Kh",
      "execution_count": 1,
      "outputs": []
    },
    {
      "cell_type": "markdown",
      "id": "f0f5964f",
      "metadata": {
        "id": "f0f5964f"
      },
      "source": [
        "## Latihan 2\n",
        "***\n",
        "Given the dictionary swimmers, add an additional key-value pair to the dictionary with \"Phelps\" as the key and the integer 23 as the value. Do not rewrite the entire dictionary."
      ]
    },
    {
      "cell_type": "code",
      "execution_count": 2,
      "id": "8657bdb4",
      "metadata": {
        "id": "8657bdb4"
      },
      "outputs": [],
      "source": [
        "swimmers = {'Manuel':4, 'Lochte':12, 'Adrian':7, 'Ledecky':5, 'Dirado':4}"
      ]
    },
    {
      "cell_type": "code",
      "source": [
        "swimmers['Phelps'] = 23\n",
        "swimmers"
      ],
      "metadata": {
        "colab": {
          "base_uri": "https://localhost:8080/"
        },
        "id": "J39QkC7dMLcq",
        "outputId": "bad4cbdd-2178-4ccf-e6ce-67d74c5f3932"
      },
      "id": "J39QkC7dMLcq",
      "execution_count": 4,
      "outputs": [
        {
          "output_type": "execute_result",
          "data": {
            "text/plain": [
              "{'Manuel': 4,\n",
              " 'Lochte': 12,\n",
              " 'Adrian': 7,\n",
              " 'Ledecky': 5,\n",
              " 'Dirado': 4,\n",
              " 'Phelps': 23}"
            ]
          },
          "metadata": {},
          "execution_count": 4
        }
      ]
    },
    {
      "cell_type": "markdown",
      "id": "6bb5a3aa",
      "metadata": {
        "id": "6bb5a3aa"
      },
      "source": [
        "## Latihan 3\n",
        "***"
      ]
    },
    {
      "cell_type": "markdown",
      "id": "935ecaf3",
      "metadata": {
        "id": "935ecaf3"
      },
      "source": [
        "Write code that combines the following variables so that the sentence “You are doing a great job, keep it up!” is assigned to the **variable** message. Do not edit the values assigned to by, az, io, or qy."
      ]
    },
    {
      "cell_type": "code",
      "execution_count": 5,
      "id": "e069c4c1",
      "metadata": {
        "id": "e069c4c1"
      },
      "outputs": [],
      "source": [
        "by = \"You are\"\n",
        "az = \"doing a great \"\n",
        "io = \"job\"\n",
        "qy = \"keep it up!\""
      ]
    },
    {
      "cell_type": "code",
      "source": [
        "message = \" \".join([by, az, io, qy])\n",
        "print(message)"
      ],
      "metadata": {
        "colab": {
          "base_uri": "https://localhost:8080/"
        },
        "id": "WKmcHSmoNybS",
        "outputId": "dc5d1128-93a7-49de-b480-b6275bb849f1"
      },
      "id": "WKmcHSmoNybS",
      "execution_count": 6,
      "outputs": [
        {
          "output_type": "stream",
          "name": "stdout",
          "text": [
            "You are doing a great  job keep it up!\n"
          ]
        }
      ]
    },
    {
      "cell_type": "markdown",
      "id": "617febe7",
      "metadata": {
        "id": "617febe7"
      },
      "source": [
        "## Latihan 4\n",
        "***\n",
        "\n",
        "Add the string “hockey” as a key to the dictionary sports_periods and assign it the value of 3. Do not rewrite the entire dictionary."
      ]
    },
    {
      "cell_type": "code",
      "execution_count": 7,
      "id": "6aad62f2",
      "metadata": {
        "id": "6aad62f2"
      },
      "outputs": [],
      "source": [
        "sports_periods = {'baseball': 9, 'basketball': 4, 'soccer': 4, 'cricket': 2}"
      ]
    },
    {
      "cell_type": "code",
      "source": [
        "sports_periods['hockey'] = 3\n",
        "sports_periods"
      ],
      "metadata": {
        "colab": {
          "base_uri": "https://localhost:8080/"
        },
        "id": "NNFm1qDoOCco",
        "outputId": "0a2bda7d-204a-4982-8016-81e262133dae"
      },
      "id": "NNFm1qDoOCco",
      "execution_count": 8,
      "outputs": [
        {
          "output_type": "execute_result",
          "data": {
            "text/plain": [
              "{'baseball': 9, 'basketball': 4, 'soccer': 4, 'cricket': 2, 'hockey': 3}"
            ]
          },
          "metadata": {},
          "execution_count": 8
        }
      ]
    },
    {
      "cell_type": "markdown",
      "id": "0270ca5c",
      "metadata": {
        "id": "0270ca5c"
      },
      "source": [
        "## Latihan 5\n",
        "***\n",
        "\n",
        "The dictionary golds contains information about how many gold medals each country won in the 2016 Olympics. But today, Spain won 2 more gold medals. Update golds to reflect this information."
      ]
    },
    {
      "cell_type": "code",
      "execution_count": 9,
      "id": "7bd0544c",
      "metadata": {
        "id": "7bd0544c"
      },
      "outputs": [],
      "source": [
        "golds = {\"Italy\": 12, \"USA\": 33, \"Brazil\": 15, \"China\": 27,\n",
        "         \"Spain\": 19, \"Canada\": 22, \"Argentina\": 8, \"England\": 29}"
      ]
    },
    {
      "cell_type": "code",
      "source": [
        "golds[\"Spain\"] = 21\n",
        "golds"
      ],
      "metadata": {
        "colab": {
          "base_uri": "https://localhost:8080/"
        },
        "id": "efLdjQ7FOJdg",
        "outputId": "289b02d4-f7e2-406f-c57a-3a72985abb4c"
      },
      "id": "efLdjQ7FOJdg",
      "execution_count": 10,
      "outputs": [
        {
          "output_type": "execute_result",
          "data": {
            "text/plain": [
              "{'Italy': 12,\n",
              " 'USA': 33,\n",
              " 'Brazil': 15,\n",
              " 'China': 27,\n",
              " 'Spain': 21,\n",
              " 'Canada': 22,\n",
              " 'Argentina': 8,\n",
              " 'England': 29}"
            ]
          },
          "metadata": {},
          "execution_count": 10
        }
      ]
    },
    {
      "cell_type": "markdown",
      "id": "307666d6",
      "metadata": {
        "id": "307666d6"
      },
      "source": [
        "## Latihan 6\n",
        "***\n",
        "\n",
        "Create a list of the countries that are in the dictionary golds, and assign that list to the variable name countries. Do not hard code this."
      ]
    },
    {
      "cell_type": "code",
      "execution_count": 11,
      "id": "f0c24d7b",
      "metadata": {
        "id": "f0c24d7b"
      },
      "outputs": [],
      "source": [
        "golds = {\"Italy\": 12, \"USA\": 33, \"Brazil\": 15, \"China\": 27,\n",
        "         \"Spain\": 19, \"Canada\": 22, \"Argentina\": 8, \"England\": 29}"
      ]
    },
    {
      "cell_type": "code",
      "source": [
        "countries = [key for key in golds.keys()]\n",
        "countries"
      ],
      "metadata": {
        "colab": {
          "base_uri": "https://localhost:8080/"
        },
        "id": "HIfRbu9VOVwY",
        "outputId": "c4cedb96-5c31-441d-eccc-edf03b9dee37"
      },
      "id": "HIfRbu9VOVwY",
      "execution_count": 13,
      "outputs": [
        {
          "output_type": "execute_result",
          "data": {
            "text/plain": [
              "['Italy', 'USA', 'Brazil', 'China', 'Spain', 'Canada', 'Argentina', 'England']"
            ]
          },
          "metadata": {},
          "execution_count": 13
        }
      ]
    },
    {
      "cell_type": "markdown",
      "id": "dd59c6e8",
      "metadata": {
        "id": "dd59c6e8"
      },
      "source": [
        "## Latihan 7\n",
        "***\n",
        "\n",
        "Assign the number of elements in lst to the variable **num_lst**."
      ]
    },
    {
      "cell_type": "code",
      "execution_count": 14,
      "id": "b46a76b0",
      "metadata": {
        "id": "b46a76b0"
      },
      "outputs": [],
      "source": [
        "lst = [\"hi\", \"goodbye\", \"python\", \"106\", \"506\",\n",
        "       91, ['all', 'Paul', 'Jackie', \"UMSI\", 1, \"Stephen\", 4.5], 109,\n",
        "       \"chair\", \"pizza\", \"wolverine\", 2017, 3.92, 1817, \"account\", \"readings\",\n",
        "       \"papers\", 12, \"facebook\", \"twitter\", 193.2,\n",
        "       \"snapchat\", \"leaders and the best\", \"social\", \"1986\", 9, 29, \"holiday\",\n",
        "       [\"women\", \"olympics\", \"gold\", \"rio\", 21, \"2016\", \"men\"], \"26trombones\"]"
      ]
    },
    {
      "cell_type": "code",
      "source": [
        "def flatten_list(items):\n",
        "  if isinstance(items,(list, tuple)):\n",
        "    return sum(flatten_list(item) for item in items)\n",
        "  else:\n",
        "    return 1"
      ],
      "metadata": {
        "id": "9VHukA7gOnU4"
      },
      "id": "9VHukA7gOnU4",
      "execution_count": 21,
      "outputs": []
    },
    {
      "cell_type": "code",
      "source": [
        "flatten_list(lst)"
      ],
      "metadata": {
        "colab": {
          "base_uri": "https://localhost:8080/"
        },
        "id": "08O8yNSORDvP",
        "outputId": "7b84f56a-7f98-471f-f7d2-a0e82d34c10c"
      },
      "id": "08O8yNSORDvP",
      "execution_count": 22,
      "outputs": [
        {
          "output_type": "execute_result",
          "data": {
            "text/plain": [
              "42"
            ]
          },
          "metadata": {},
          "execution_count": 22
        }
      ]
    },
    {
      "cell_type": "markdown",
      "id": "12a664ed",
      "metadata": {
        "id": "12a664ed"
      },
      "source": [
        "<h4><center><font color=\"1F4690\">PJJ PENGOLAHAN DATA MENGGUNAKAN PYTHON <br> <br> Rabu, 15 Juni 2022</font></center></h4>\n",
        "<div class=\"alert alert-info\"><h1 align=\"center\"><font color=\"1F4690\">Latihan Siang Hari</font></h4></div>"
      ]
    },
    {
      "cell_type": "markdown",
      "id": "5b39b7fd",
      "metadata": {
        "id": "5b39b7fd"
      },
      "source": [
        "## Latihan 1 :\n",
        "\n",
        "Dictionary **Junior** menampung informasi jadwal untuk anak kuliah tahun ini. Keynya adalah naman mata pelajaran dan angka dibelakangnya adalah angka kredit. Temukan jumlah kredit yang diambil dan assignlah ke variabel **credits**."
      ]
    },
    {
      "cell_type": "code",
      "execution_count": 24,
      "id": "533cdf18",
      "metadata": {
        "id": "533cdf18"
      },
      "outputs": [],
      "source": [
        "Junior = {'SI 206':4, 'SI 310':4, 'BL 300':3, 'TO 313':3, 'BCOM 350':1, 'MO 300':3}"
      ]
    },
    {
      "cell_type": "code",
      "source": [
        "credits = sum(Junior.values())\n",
        "credits"
      ],
      "metadata": {
        "colab": {
          "base_uri": "https://localhost:8080/"
        },
        "id": "d8GfRiHf2FSo",
        "outputId": "7c951f69-4b04-4b01-c5c4-2c298ed4f902"
      },
      "id": "d8GfRiHf2FSo",
      "execution_count": 25,
      "outputs": [
        {
          "output_type": "execute_result",
          "data": {
            "text/plain": [
              "18"
            ]
          },
          "metadata": {},
          "execution_count": 25
        }
      ]
    },
    {
      "cell_type": "markdown",
      "id": "8c68befd",
      "metadata": {
        "id": "8c68befd"
      },
      "source": [
        "## Latihan 2 :\n",
        "\n",
        "Buatlah suatu dictionary bernama **freq** yang isi dari keynya adalah alphabet yang ada dalam string itu dan nilainya adalah frekuensi kemunculan dari alphabet itu."
      ]
    },
    {
      "cell_type": "code",
      "execution_count": 26,
      "id": "2b343b2a",
      "metadata": {
        "id": "2b343b2a"
      },
      "outputs": [],
      "source": [
        "str1 = \"peter piper picked a peck of pickled peppers\""
      ]
    },
    {
      "cell_type": "code",
      "source": [
        "freq = {key : str1.count(key) for key in str1}\n",
        "freq"
      ],
      "metadata": {
        "colab": {
          "base_uri": "https://localhost:8080/"
        },
        "id": "JZk0rmE84H2x",
        "outputId": "009b8a9f-3670-414d-bdac-de1fe3f13e29"
      },
      "id": "JZk0rmE84H2x",
      "execution_count": 27,
      "outputs": [
        {
          "output_type": "execute_result",
          "data": {
            "text/plain": [
              "{'p': 9,\n",
              " 'e': 8,\n",
              " 't': 1,\n",
              " 'r': 3,\n",
              " ' ': 7,\n",
              " 'i': 3,\n",
              " 'c': 3,\n",
              " 'k': 3,\n",
              " 'd': 2,\n",
              " 'a': 1,\n",
              " 'o': 1,\n",
              " 'f': 1,\n",
              " 'l': 1,\n",
              " 's': 1}"
            ]
          },
          "metadata": {},
          "execution_count": 27
        }
      ]
    },
    {
      "cell_type": "markdown",
      "id": "dcc609da",
      "metadata": {
        "id": "dcc609da"
      },
      "source": [
        "## Latihan 3 :\n",
        "Buatlah suatu dictionary bernama **wrd_d** dari string dibawah, dimana key nya adalah kata dan valuenya adalah berapa kali anda menemukan value tersebut di string tersebut."
      ]
    },
    {
      "cell_type": "code",
      "execution_count": 29,
      "id": "259823df",
      "metadata": {
        "id": "259823df"
      },
      "outputs": [],
      "source": [
        "sent = \"\"\"Singing in the rain and playing in the rain\n",
        "are two entirely different situations but both can be good\"\"\""
      ]
    },
    {
      "cell_type": "code",
      "source": [
        "wrd_d = {key : sent.count(key)for key in sent.split()}\n",
        "wrd_d"
      ],
      "metadata": {
        "id": "yXf1zwXj5BQp",
        "outputId": "14f02ebe-46e3-49c3-95d9-016016e914c5",
        "colab": {
          "base_uri": "https://localhost:8080/"
        }
      },
      "id": "yXf1zwXj5BQp",
      "execution_count": 30,
      "outputs": [
        {
          "output_type": "execute_result",
          "data": {
            "text/plain": [
              "{'Singing': 1,\n",
              " 'in': 7,\n",
              " 'the': 2,\n",
              " 'rain': 2,\n",
              " 'and': 1,\n",
              " 'playing': 1,\n",
              " 'are': 1,\n",
              " 'two': 1,\n",
              " 'entirely': 1,\n",
              " 'different': 1,\n",
              " 'situations': 1,\n",
              " 'but': 1,\n",
              " 'both': 1,\n",
              " 'can': 1,\n",
              " 'be': 1,\n",
              " 'good': 1}"
            ]
          },
          "metadata": {},
          "execution_count": 30
        }
      ]
    },
    {
      "cell_type": "markdown",
      "id": "cb1d4f56",
      "metadata": {
        "id": "cb1d4f56"
      },
      "source": [
        "## Latihan 4\n",
        "\n",
        "Buatlah suatu dictionary bernama **letter_counts** yang menghitung frekuensi kemunculan dari suatu huruf di dalam string dan berapa kali huruf itu muncul. </br>\n",
        "\n",
        "**Perhatian:**\n",
        "Setiap huruf besar atau huruf kecil dalam alphabet yang sama harus dihitung sebagai huruf yang sama"
      ]
    },
    {
      "cell_type": "code",
      "execution_count": 31,
      "id": "73083a6d",
      "metadata": {
        "id": "73083a6d"
      },
      "outputs": [],
      "source": [
        "string1 = \"\"\"There is a tide in the affairs of men, Which taken at the flood,\n",
        "leads on to fortune. Omitted, all the voyage of their life is bound in shallows\n",
        "and in miseries. On such a full sea are we now afloat.\n",
        "And we must take the current when it serves, or lose our ventures.\"\"\""
      ]
    },
    {
      "cell_type": "code",
      "source": [
        "letter_counts = {key : string1.lower().count(key) for key in string1.lower()}\n",
        "letter_counts\n"
      ],
      "metadata": {
        "id": "6zNLADxB5Wzq",
        "outputId": "ea4cfa15-f394-44df-d63d-c5b2aebdad09",
        "colab": {
          "base_uri": "https://localhost:8080/"
        }
      },
      "id": "6zNLADxB5Wzq",
      "execution_count": 39,
      "outputs": [
        {
          "output_type": "execute_result",
          "data": {
            "text/plain": [
              "{'t': 19,\n",
              " 'h': 11,\n",
              " 'e': 29,\n",
              " 'r': 12,\n",
              " ' ': 52,\n",
              " 'i': 14,\n",
              " 's': 15,\n",
              " 'a': 17,\n",
              " 'd': 7,\n",
              " 'n': 15,\n",
              " 'f': 9,\n",
              " 'o': 17,\n",
              " 'm': 4,\n",
              " ',': 4,\n",
              " 'w': 6,\n",
              " 'c': 3,\n",
              " 'k': 2,\n",
              " 'l': 11,\n",
              " '\\n': 3,\n",
              " 'u': 8,\n",
              " '.': 4,\n",
              " 'v': 3,\n",
              " 'y': 1,\n",
              " 'g': 1,\n",
              " 'b': 1}"
            ]
          },
          "metadata": {},
          "execution_count": 39
        }
      ]
    }
  ],
  "metadata": {
    "kernelspec": {
      "display_name": "Python 3 (ipykernel)",
      "language": "python",
      "name": "python3"
    },
    "language_info": {
      "codemirror_mode": {
        "name": "ipython",
        "version": 3
      },
      "file_extension": ".py",
      "mimetype": "text/x-python",
      "name": "python",
      "nbconvert_exporter": "python",
      "pygments_lexer": "ipython3",
      "version": "3.9.7"
    },
    "colab": {
      "provenance": []
    }
  },
  "nbformat": 4,
  "nbformat_minor": 5
}