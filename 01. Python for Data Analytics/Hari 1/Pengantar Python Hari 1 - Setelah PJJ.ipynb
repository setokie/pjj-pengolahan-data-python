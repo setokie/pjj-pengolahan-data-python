{
  "cells": [
    {
      "cell_type": "markdown",
      "id": "be2f3fa0",
      "metadata": {
        "id": "be2f3fa0"
      },
      "source": [
        "<h4><center><font color=\"1F4690\">PJJ PENGOLAHAN DATA MENGGUNAKAN PYTHON <br> <br> Selasa, 14 Juni 2022</font></center></h4>\n",
        "<div class=\"alert alert-info\"><h1 align=\"center\"><font color=\"1F4690\">Pemrograman Python (Part 1)</font></h4></div>"
      ]
    },
    {
      "cell_type": "markdown",
      "id": "7f353e2a",
      "metadata": {
        "id": "7f353e2a"
      },
      "source": [
        "# 1. Objek\n",
        "Setiap objek memiliki **TIPE** tipe ini menentukan nilai yang bisa dimilikinya. Tipenya berupa skalar atau non skalar.\n",
        "\n",
        "### Scalar\n",
        "objek yang tidak dapat dipecah-pecah (indivisible)\n",
        "* **int** untuk merepresentasikan bilang bulat, misalkan -123, 0, 28000, 1000500, etc.\n",
        "* **float** untuk merepresentasikan bilangan riil, misalkan 0.43, 2005.34, 12.25, etc.\n",
        "* **bool** untuk merepresentasikan nilai True atau False\n",
        "* **string** untuk merepresentasikan karakter\n",
        "* **none** untuk merepresentasikan ketiadaan nilai\n",
        "\n",
        "### Nonscalar\n",
        "objek dengan struktur internal.</br>\n",
        "Contoh: </br>\n",
        "lists, tuples, strings, instances of classes etc."
      ]
    },
    {
      "cell_type": "code",
      "execution_count": 1,
      "id": "25b60269",
      "metadata": {
        "id": "25b60269",
        "outputId": "a1bc360d-5656-42da-b7ed-729f80c1d9c4",
        "colab": {
          "base_uri": "https://localhost:8080/"
        }
      },
      "outputs": [
        {
          "output_type": "execute_result",
          "data": {
            "text/plain": [
              "float"
            ]
          },
          "metadata": {},
          "execution_count": 1
        }
      ],
      "source": [
        "# Kita dapat melakukan cek ke tipe dari suatu data menggunakan fungsi type()\n",
        "a=23\n",
        "type(23)\n",
        "\n",
        "b='Ajaccio'\n",
        "type(b)\n",
        "\n",
        "c=234.56\n",
        "type(c)"
      ]
    },
    {
      "cell_type": "code",
      "execution_count": 2,
      "id": "fd3b16e7",
      "metadata": {
        "id": "fd3b16e7",
        "outputId": "f2b41a23-636f-409b-92df-f7e50f846853",
        "colab": {
          "base_uri": "https://localhost:8080/"
        }
      },
      "outputs": [
        {
          "output_type": "execute_result",
          "data": {
            "text/plain": [
              "int"
            ]
          },
          "metadata": {},
          "execution_count": 2
        }
      ],
      "source": [
        "angka=78000000000000\n",
        "type(angka)"
      ]
    },
    {
      "cell_type": "code",
      "execution_count": null,
      "id": "18bafd97",
      "metadata": {
        "id": "18bafd97",
        "outputId": "e15017b4-3816-4778-ee86-a40d4ceabedf"
      },
      "outputs": [
        {
          "data": {
            "text/plain": [
              "float"
            ]
          },
          "execution_count": 11,
          "metadata": {},
          "output_type": "execute_result"
        }
      ],
      "source": [
        "uang=12.45\n",
        "type(uang)"
      ]
    },
    {
      "cell_type": "markdown",
      "id": "8b35e50a",
      "metadata": {
        "id": "8b35e50a"
      },
      "source": [
        "$2.3*10^{-7}$"
      ]
    },
    {
      "cell_type": "code",
      "execution_count": null,
      "id": "093e05da",
      "metadata": {
        "id": "093e05da",
        "outputId": "1b39de96-d02a-4b7e-d0cf-2fb73677dd84"
      },
      "outputs": [
        {
          "data": {
            "text/plain": [
              "2.3e-07"
            ]
          },
          "execution_count": 14,
          "metadata": {},
          "output_type": "execute_result"
        }
      ],
      "source": [
        "uk_bakteri=2.3e-7\n",
        "uk_bakteri"
      ]
    },
    {
      "cell_type": "code",
      "execution_count": null,
      "id": "d75d2327",
      "metadata": {
        "id": "d75d2327",
        "outputId": "65d2833b-5e88-476f-f9cb-946e20a33485"
      },
      "outputs": [
        {
          "data": {
            "text/plain": [
              "float"
            ]
          },
          "execution_count": 15,
          "metadata": {},
          "output_type": "execute_result"
        }
      ],
      "source": [
        "type(uk_bakteri)"
      ]
    },
    {
      "cell_type": "code",
      "execution_count": null,
      "id": "4fdae714",
      "metadata": {
        "id": "4fdae714",
        "outputId": "38e42d36-2d3b-4403-e95b-e0d2d66da8ba"
      },
      "outputs": [
        {
          "data": {
            "text/plain": [
              "float"
            ]
          },
          "execution_count": 16,
          "metadata": {},
          "output_type": "execute_result"
        }
      ],
      "source": [
        "uk_bakteri=2.3e-7\n",
        "uk_bakteri\n",
        "type(uk_bakteri)"
      ]
    },
    {
      "cell_type": "code",
      "execution_count": null,
      "id": "c5525c76",
      "metadata": {
        "id": "c5525c76",
        "outputId": "2b15c749-7afa-440f-a11e-6709495374a8"
      },
      "outputs": [
        {
          "data": {
            "text/plain": [
              "32"
            ]
          },
          "execution_count": 17,
          "metadata": {},
          "output_type": "execute_result"
        }
      ],
      "source": [
        "umur=32\n",
        "umur"
      ]
    },
    {
      "cell_type": "code",
      "execution_count": null,
      "id": "9a5dc0d7",
      "metadata": {
        "id": "9a5dc0d7",
        "outputId": "d4148f4d-2b57-470b-cb77-b44ccbc259ff"
      },
      "outputs": [
        {
          "data": {
            "text/plain": [
              "str"
            ]
          },
          "execution_count": 19,
          "metadata": {},
          "output_type": "execute_result"
        }
      ],
      "source": [
        "nama=\"Joseph R Biden\"\n",
        "type(nama)"
      ]
    },
    {
      "cell_type": "code",
      "execution_count": null,
      "id": "fffd0151",
      "metadata": {
        "id": "fffd0151",
        "outputId": "099d2a0b-3743-410f-9cf7-321c52227206"
      },
      "outputs": [
        {
          "data": {
            "text/plain": [
              "bool"
            ]
          },
          "execution_count": 21,
          "metadata": {},
          "output_type": "execute_result"
        }
      ],
      "source": [
        "hal_1=True\n",
        "type(hal_1)"
      ]
    },
    {
      "cell_type": "code",
      "execution_count": null,
      "id": "1dadf4d2",
      "metadata": {
        "id": "1dadf4d2",
        "outputId": "40cf98fc-8526-4204-f1cb-0cb9f2f87a54"
      },
      "outputs": [
        {
          "data": {
            "text/plain": [
              "str"
            ]
          },
          "execution_count": 24,
          "metadata": {},
          "output_type": "execute_result"
        }
      ],
      "source": [
        "hal_2=\"true\"\n",
        "type(hal_2)"
      ]
    },
    {
      "cell_type": "markdown",
      "id": "ef07ec9d",
      "metadata": {
        "id": "ef07ec9d"
      },
      "source": [
        "> Objek dan operator dapat dikombinasikan untuk menghasilkan ekspresi."
      ]
    },
    {
      "cell_type": "markdown",
      "id": "c8e1518e",
      "metadata": {
        "id": "c8e1518e"
      },
      "source": [
        "# 2. Operator\n",
        "\n",
        "1. Operator standar  +, -, *\n",
        "2. Operator sisa hasil bagi **%**\n",
        "3. Operator perpangkatan ******\n",
        "4. Operator pembanding\n",
        "* $==$(sama dengan),\n",
        "* $! =$(tidak sama dengan),\n",
        "* $<$(kurang dari),\n",
        "* $>$(lebih besar dari),\n",
        "* $<=$(kurang dari atau sama dengan),\n",
        "* $>=$(lebih dari atau sama dengan).\n",
        "\n",
        "> Ingat! tidak ada operator **<>** di PYTHON!"
      ]
    },
    {
      "cell_type": "code",
      "execution_count": null,
      "id": "b730894c",
      "metadata": {
        "id": "b730894c",
        "outputId": "8db024e2-7c58-4cf6-d7f0-9295e0a56b0a"
      },
      "outputs": [
        {
          "data": {
            "text/plain": [
              "521"
            ]
          },
          "execution_count": 25,
          "metadata": {},
          "output_type": "execute_result"
        }
      ],
      "source": [
        "756-235"
      ]
    },
    {
      "cell_type": "code",
      "execution_count": null,
      "id": "d31851cf",
      "metadata": {
        "id": "d31851cf",
        "outputId": "fb4c5338-8596-4744-e83e-080408ab583c"
      },
      "outputs": [
        {
          "data": {
            "text/plain": [
              "110.79000000000002"
            ]
          },
          "execution_count": 27,
          "metadata": {},
          "output_type": "execute_result"
        }
      ],
      "source": [
        "#integer dengan float\n",
        "#(Casting - python langsung mengubah integer menjadi float tanpa harus disuruh)\n",
        "456-345.21"
      ]
    },
    {
      "cell_type": "code",
      "execution_count": null,
      "id": "af9be7fb",
      "metadata": {
        "id": "af9be7fb",
        "outputId": "ffa4ebdf-474e-401e-c9de-a80783b92fca"
      },
      "outputs": [
        {
          "data": {
            "text/plain": [
              "345.21"
            ]
          },
          "execution_count": 36,
          "metadata": {},
          "output_type": "execute_result"
        }
      ],
      "source": [
        "ghi=345.21\n",
        "ghi"
      ]
    },
    {
      "cell_type": "code",
      "execution_count": null,
      "id": "08da7981",
      "metadata": {
        "id": "08da7981",
        "outputId": "42af1ada-a928-437c-b7c9-19425e4f481b"
      },
      "outputs": [
        {
          "data": {
            "text/plain": [
              "111.85999999999999"
            ]
          },
          "execution_count": 37,
          "metadata": {},
          "output_type": "execute_result"
        }
      ],
      "source": [
        "234.98-123.12"
      ]
    },
    {
      "cell_type": "code",
      "execution_count": null,
      "id": "ab0f6473",
      "metadata": {
        "id": "ab0f6473",
        "outputId": "4b3dbaab-2fe8-4127-bd98-2d204a6586c8"
      },
      "outputs": [
        {
          "data": {
            "text/plain": [
              "0.3333333333333333"
            ]
          },
          "execution_count": 29,
          "metadata": {},
          "output_type": "execute_result"
        }
      ],
      "source": [
        "1/3"
      ]
    },
    {
      "cell_type": "code",
      "execution_count": null,
      "id": "50b43702",
      "metadata": {
        "id": "50b43702",
        "outputId": "64511f1f-5ecc-4ee1-ec67-3238eb25c6b5"
      },
      "outputs": [
        {
          "data": {
            "text/plain": [
              "1600.5"
            ]
          },
          "execution_count": 30,
          "metadata": {},
          "output_type": "execute_result"
        }
      ],
      "source": [
        "75*21.34"
      ]
    },
    {
      "cell_type": "code",
      "execution_count": null,
      "id": "b6411008",
      "metadata": {
        "id": "b6411008",
        "outputId": "934c7a0b-5cb7-4f7e-a163-2e90d07b6829"
      },
      "outputs": [
        {
          "data": {
            "text/plain": [
              "'MINUMMINUMMINUMMINUMMINUMMINUMMINUM'"
            ]
          },
          "execution_count": 31,
          "metadata": {},
          "output_type": "execute_result"
        }
      ],
      "source": [
        "kataku=\"MINUM\"\n",
        "7*kataku"
      ]
    },
    {
      "cell_type": "code",
      "execution_count": null,
      "id": "c689e5da",
      "metadata": {
        "id": "c689e5da",
        "outputId": "ad83f52a-ce47-40de-ddfb-271a1ab07453"
      },
      "outputs": [
        {
          "data": {
            "text/plain": [
              "'MINUMMAKAN'"
            ]
          },
          "execution_count": 33,
          "metadata": {},
          "output_type": "execute_result"
        }
      ],
      "source": [
        "# penjumlahan antar string\n",
        "katamu=\"MAKAN\"\n",
        "kataku+katamu"
      ]
    },
    {
      "cell_type": "code",
      "execution_count": null,
      "id": "cbf50659",
      "metadata": {
        "id": "cbf50659",
        "outputId": "de334247-50c3-45fd-de15-3204461ceef7"
      },
      "outputs": [
        {
          "data": {
            "text/plain": [
              "False"
            ]
          },
          "execution_count": 38,
          "metadata": {},
          "output_type": "execute_result"
        }
      ],
      "source": [
        "5>6"
      ]
    },
    {
      "cell_type": "code",
      "execution_count": null,
      "id": "ce6b0159",
      "metadata": {
        "id": "ce6b0159",
        "outputId": "b4103e1c-409e-4eb3-f147-a53e752d041b"
      },
      "outputs": [
        {
          "data": {
            "text/plain": [
              "True"
            ]
          },
          "execution_count": 40,
          "metadata": {},
          "output_type": "execute_result"
        }
      ],
      "source": [
        "4>=4\n",
        "# artinya 4 > 4(SALAH) atau 4=4 (BENAR) --- logika matematis pVq,\n",
        "# salahVbenar --- benar"
      ]
    },
    {
      "cell_type": "code",
      "execution_count": null,
      "id": "318a3957",
      "metadata": {
        "id": "318a3957",
        "outputId": "163475ee-df19-4b5d-9fe7-a61697c8a34f"
      },
      "outputs": [
        {
          "data": {
            "text/plain": [
              "True"
            ]
          },
          "execution_count": 42,
          "metadata": {},
          "output_type": "execute_result"
        }
      ],
      "source": [
        "# perbandingan string, dibandingkan dengan melihat urutan alfabetis\n",
        "'g'<'m'"
      ]
    },
    {
      "cell_type": "code",
      "execution_count": null,
      "id": "44bddacc",
      "metadata": {
        "id": "44bddacc",
        "outputId": "a4e35b27-34d4-4f5f-bafb-8d70f60e5449"
      },
      "outputs": [
        {
          "data": {
            "text/plain": [
              "False"
            ]
          },
          "execution_count": 44,
          "metadata": {},
          "output_type": "execute_result"
        }
      ],
      "source": [
        "'lurus'>'tinggi' #--> 'l'>'t'"
      ]
    },
    {
      "cell_type": "code",
      "execution_count": null,
      "id": "30ce0015",
      "metadata": {
        "id": "30ce0015",
        "outputId": "420fb942-9ec8-41ee-863b-bcbd57d1d226"
      },
      "outputs": [
        {
          "data": {
            "text/plain": [
              "125"
            ]
          },
          "execution_count": 45,
          "metadata": {},
          "output_type": "execute_result"
        }
      ],
      "source": [
        "5**3"
      ]
    },
    {
      "cell_type": "code",
      "execution_count": null,
      "id": "86e4112f",
      "metadata": {
        "id": "86e4112f",
        "outputId": "549d5b46-373e-4c62-d82f-5e06bf2971bd"
      },
      "outputs": [
        {
          "ename": "TypeError",
          "evalue": "unsupported operand type(s) for ** or pow(): 'str' and 'int'",
          "output_type": "error",
          "traceback": [
            "\u001b[1;31m---------------------------------------------------------------------------\u001b[0m",
            "\u001b[1;31mTypeError\u001b[0m                                 Traceback (most recent call last)",
            "\u001b[1;32mC:\\Users\\ANDREA~1.KUR\\AppData\\Local\\Temp/ipykernel_2544/3870206765.py\u001b[0m in \u001b[0;36m<module>\u001b[1;34m\u001b[0m\n\u001b[1;32m----> 1\u001b[1;33m \u001b[1;34m'makan'\u001b[0m\u001b[1;33m**\u001b[0m\u001b[1;36m3\u001b[0m\u001b[1;33m\u001b[0m\u001b[1;33m\u001b[0m\u001b[0m\n\u001b[0m",
            "\u001b[1;31mTypeError\u001b[0m: unsupported operand type(s) for ** or pow(): 'str' and 'int'"
          ]
        }
      ],
      "source": [
        "# tidak bisa memangkatkan string\n",
        "'makan'**3"
      ]
    },
    {
      "cell_type": "markdown",
      "id": "ad058a4e",
      "metadata": {
        "id": "ad058a4e"
      },
      "source": [
        "## 2.1. Operator Pembagian\n",
        "\n",
        "Terdapat dua operator untuk pembagian yakni **(/)** dan **(//)**.</br>\n",
        "**1. Pembagian Bilangan Bulat - sisa pembagian tidak dianggap.** </br>\n",
        "**Contoh :**\n",
        "* 16//2 akan menghasilkan 8  \n",
        "* 17//7 akan menghasilkan 2\n",
        "\n",
        "**2. Pembagian Bilangan Real** </br>\n",
        "**Contoh :**\n",
        "* 16/2 akan menghasilkan 8\n",
        "* 17/7 akan menghasilkan 2.4285714285714284"
      ]
    },
    {
      "cell_type": "code",
      "execution_count": null,
      "id": "fe0e5bc0",
      "metadata": {
        "id": "fe0e5bc0",
        "outputId": "8d4d458b-ed47-4ab8-d24d-6a5d60ea9863"
      },
      "outputs": [
        {
          "name": "stdout",
          "output_type": "stream",
          "text": [
            "Hasil dari 16/2 adalah 8.0\n",
            "Hasil dari 16/2 adalah 2.4285714285714284\n",
            "Hasil dari 17/3 adalah 5.666666666666667\n"
          ]
        }
      ],
      "source": [
        "print('Hasil dari 16/2 adalah', 16/2)\n",
        "print('Hasil dari 16/2 adalah', 17/7)\n",
        "print('Hasil dari 17/3 adalah', 17/3)"
      ]
    },
    {
      "cell_type": "code",
      "execution_count": null,
      "id": "8acd32e6",
      "metadata": {
        "id": "8acd32e6",
        "outputId": "c06ef2df-d7de-4472-c796-581006507bd8"
      },
      "outputs": [
        {
          "name": "stdout",
          "output_type": "stream",
          "text": [
            "Hasil dari 16//2 adalah 8\n",
            "Hasil dari 16//2 adalah 2\n",
            "Hasil dari 17//3 adalah 5\n"
          ]
        }
      ],
      "source": [
        "print('Hasil dari 16//2 adalah', 16//2)\n",
        "print('Hasil dari 16//2 adalah', 17//7)\n",
        "print('Hasil dari 17//3 adalah', 17//3)"
      ]
    },
    {
      "cell_type": "markdown",
      "id": "21933095",
      "metadata": {
        "id": "21933095"
      },
      "source": [
        "## 2.2 Operator Inkremental\n",
        "\n",
        "Operator untuk melakukan penjumlahan **(+=)**, pengurangan**(-=)**, pembagian**(/=)**, perkalian **(*=)** secara inkremental. </br>\n",
        "Contoh :</br>\n",
        "* $A=+1$ sama artinya dengan $A=A+1$\n",
        "* $umur=-2$ sama artinya dengan $umur=umur-2$"
      ]
    },
    {
      "cell_type": "code",
      "execution_count": null,
      "id": "ca7e168b",
      "metadata": {
        "id": "ca7e168b",
        "outputId": "5e6ff0fa-4180-449b-f098-fe2a622f2fe3"
      },
      "outputs": [
        {
          "data": {
            "text/plain": [
              "4"
            ]
          },
          "execution_count": 57,
          "metadata": {},
          "output_type": "execute_result"
        }
      ],
      "source": [
        "tas=3\n",
        "tas=tas+1\n",
        "tas"
      ]
    },
    {
      "cell_type": "code",
      "execution_count": null,
      "id": "e7bcab2d",
      "metadata": {
        "id": "e7bcab2d",
        "outputId": "f2a2153c-a04d-47cd-e450-7cf2d099b819"
      },
      "outputs": [
        {
          "data": {
            "text/plain": [
              "128"
            ]
          },
          "execution_count": 59,
          "metadata": {},
          "output_type": "execute_result"
        }
      ],
      "source": [
        "tas=3\n",
        "tas+=125\n",
        "tas"
      ]
    },
    {
      "cell_type": "markdown",
      "id": "c1742a78",
      "metadata": {
        "id": "c1742a78"
      },
      "source": [
        "## 2.3. Operator Modulo (Sisa Hasil Bagi)\n",
        "\n",
        "> $a \\mod b \\equiv c$\n",
        "\n",
        "Di dalam perhitungan pecahan dengan hasil yang tidak bulat kita akan menemukan sisa pembagian. </br>\n",
        "Misalkan 31 roti dibagi tiga orang- masing-masing akan mendapatkan 9 roti dan sisa 4 roti : </br>\n",
        "$\\frac{31}{3}=9\\frac{4}{3}$\n",
        "\n",
        "| NOTASI MATEMATIS              | BAHASA\\_INDONESIA     | NOTASI PYTHON |\n",
        "| :---------------------------- | :-------------------- | :-----------: |\n",
        "| $$31 \\mod 3 \\equiv 4$$        | 31 dibagi 3 sisa 4    | 31%3          |\n",
        "| $$16 \\mod 2 \\equiv 0$$        | 16 dibagi 2 sisa 0    | 16%2          |\n",
        "| $$100 \\mod 37 \\equiv 26$$     | 100 dibagi 37 sisa 26 | 100%37        |"
      ]
    },
    {
      "cell_type": "code",
      "execution_count": null,
      "id": "1fd4aec4",
      "metadata": {
        "id": "1fd4aec4",
        "outputId": "f03d6f01-b71d-4b84-9422-49ef23787030"
      },
      "outputs": [
        {
          "name": "stdout",
          "output_type": "stream",
          "text": [
            "0\n",
            "1\n"
          ]
        }
      ],
      "source": [
        "###----TESTING\n",
        "print(12%2)\n",
        "print(13%2)"
      ]
    },
    {
      "cell_type": "markdown",
      "id": "42292891",
      "metadata": {
        "id": "42292891"
      },
      "source": [
        "> **Command/Statement** - menginstruksikan interpreter untuk melakukan sesuatu."
      ]
    },
    {
      "cell_type": "code",
      "execution_count": null,
      "id": "dc77d5e5",
      "metadata": {
        "id": "dc77d5e5",
        "outputId": "c39296eb-e748-4fd8-a7a2-b05d06c484d4"
      },
      "outputs": [
        {
          "name": "stdout",
          "output_type": "stream",
          "text": [
            "Why did the British tea maker deliver the tea packages himself even though he was sick? \n",
            "He was trying to fulfill his due-tea.\n",
            "=========================================================================================\n",
            "If a British person is too relaxed during tea time they can get injured or die.\n",
            "One should avoid a casual -tea as much as possible.\n"
          ]
        }
      ],
      "source": [
        "# Sekumpulan command/statement\n",
        "print ('Why did the British tea maker deliver the tea packages himself even though he was sick? ')\n",
        "print ('He was trying to fulfill his due-tea.')\n",
        "print ('=========================================================================================')\n",
        "print ('If a British person is too relaxed during tea time', 'they can get injured or die.')\n",
        "print ('One should avoid a casual -tea as much as possible.')\n",
        "# interpreter akan menghasilkan output sebagai berikut."
      ]
    },
    {
      "cell_type": "markdown",
      "id": "e7efbb25",
      "metadata": {
        "id": "e7efbb25"
      },
      "source": [
        "# 3. Variabel dan Penugasan"
      ]
    },
    {
      "cell_type": "markdown",
      "id": "0d3d6e90",
      "metadata": {
        "id": "0d3d6e90"
      },
      "source": [
        "> Variable merupakan suatu lokasi dimana kita menyimpan data."
      ]
    },
    {
      "cell_type": "code",
      "execution_count": null,
      "id": "5ab37c56",
      "metadata": {
        "id": "5ab37c56"
      },
      "outputs": [],
      "source": [
        "#--------Deklarasi Variabel pada Bahasa Pemrograman C#---------------\n",
        "#string name = \"John\";\n",
        "#int myNum = 15;\n",
        "#Console.WriteLine(name);\n",
        "#Console.WriteLine(myNum);"
      ]
    },
    {
      "cell_type": "markdown",
      "id": "eb411b6d",
      "metadata": {
        "id": "eb411b6d"
      },
      "source": [
        "![Variable is Variable](https://starecat.com/content/wp-content/uploads/c-plus-plus-can-not-compare-float-and-int-python-variable-is-variable.jpg)"
      ]
    },
    {
      "cell_type": "markdown",
      "id": "2e177a30",
      "metadata": {
        "id": "2e177a30"
      },
      "source": [
        "Python tidak memiliki perintah tersendiri untuk mendeklarasikan variabel. Variabel tercipta di saat sebuah nilai ditugaskan pada variabel tersebut."
      ]
    },
    {
      "cell_type": "code",
      "execution_count": null,
      "id": "bd4f5aca",
      "metadata": {
        "id": "bd4f5aca",
        "outputId": "f321c2a8-5924-4212-8f60-0fea232c5375"
      },
      "outputs": [
        {
          "data": {
            "text/plain": [
              "('Ada bebek 10 di kali 2 jadi berapa?', 8)"
            ]
          },
          "execution_count": 5,
          "metadata": {},
          "output_type": "execute_result"
        }
      ],
      "source": [
        "#--------Variabel pada Python---------------\n",
        "heyTayo = 'Ada bebek 10 di kali 2 jadi berapa?'\n",
        "heyToyo = 8\n",
        "heyTayo, heyToyo"
      ]
    },
    {
      "cell_type": "markdown",
      "id": "a135d377",
      "metadata": {
        "id": "a135d377"
      },
      "source": [
        "## 3.1. Aturan penulisan variabel :\n",
        "\n",
        "1. Nama suatu variabel harus dimulai dengan HURUF atau GARISBAWAH.\n",
        "2. Nama variabel hanya boleh mengandung karakter ALFANUMERIK dan GARIS BAWAH\n",
        "3. Nama variabel menganut kepekaan kapital (case sensitivity). </br>\n",
        "umurBapak, umuRbapak, UmurBapak, UMURBAPAK adalah empat variabel yang berbeda satu sama lain"
      ]
    },
    {
      "cell_type": "code",
      "execution_count": null,
      "id": "ce0233d3",
      "metadata": {
        "id": "ce0233d3",
        "outputId": "3a6860af-0f82-46bc-a24c-2f882f2df497"
      },
      "outputs": [
        {
          "data": {
            "text/plain": [
              "2215113409648"
            ]
          },
          "execution_count": 66,
          "metadata": {},
          "output_type": "execute_result"
        }
      ],
      "source": [
        "Yes=\"kode panggil\"\n",
        "yes=\"kode panggil\"\n",
        "id(Yes)"
      ]
    },
    {
      "cell_type": "code",
      "execution_count": null,
      "id": "d5a9a0bd",
      "metadata": {
        "id": "d5a9a0bd",
        "outputId": "0f6c4747-9e4e-4174-bf50-b1f2d855f62b"
      },
      "outputs": [
        {
          "data": {
            "text/plain": [
              "2215113410736"
            ]
          },
          "execution_count": 67,
          "metadata": {},
          "output_type": "execute_result"
        }
      ],
      "source": [
        "id(yes)"
      ]
    },
    {
      "cell_type": "markdown",
      "id": "d37d694d",
      "metadata": {
        "id": "d37d694d"
      },
      "source": [
        "### Cara Penulisan Variabel\n",
        "\n",
        "* **Camel Case** - semua suku kata menyatu, awalan kata-kata dimulai dengan huruf kapital kecuali kata pertama. </br>\n",
        "Contoh: alamatRumah, nomorKodePos, namaDepan\n",
        "</br>\n",
        "</br>\n",
        "* **Pascal Case** - semua suku kata menyatu, awalan kata-kata dimulai dengan huruf kapital kecuali kata pertama.</br>\n",
        "Contoh: AlamatRumah, NomorKodePos, NamaDepan\n",
        "</br>\n",
        "</br>\n",
        "* **Snake Case** - suku kata dipisahkan dengan garis bawah, kata disusun dengan huruf kecil semua atau hurufbesar semua.</br>\n",
        "Contoh: alamat_rumah, NOMOR_KODE_POS, nama_depan"
      ]
    },
    {
      "cell_type": "markdown",
      "id": "8af9961f",
      "metadata": {
        "id": "8af9961f"
      },
      "source": [
        "## 3.2. Melakukan Perbaruan atas Nilai Variable"
      ]
    },
    {
      "cell_type": "code",
      "execution_count": null,
      "id": "56e615f1",
      "metadata": {
        "id": "56e615f1",
        "outputId": "54083507-70d5-4975-c50e-8bdb97250c29"
      },
      "outputs": [
        {
          "data": {
            "text/plain": [
              "2143612061808"
            ]
          },
          "execution_count": 6,
          "metadata": {},
          "output_type": "execute_result"
        }
      ],
      "source": [
        "jarakJktSby = 800\n",
        "id(jarakJktSby)"
      ]
    },
    {
      "cell_type": "code",
      "execution_count": null,
      "id": "d933a75e",
      "metadata": {
        "id": "d933a75e",
        "outputId": "c409804b-3214-4a24-c029-22a7eab87e4c"
      },
      "outputs": [
        {
          "data": {
            "text/plain": [
              "2143612061520"
            ]
          },
          "execution_count": 7,
          "metadata": {},
          "output_type": "execute_result"
        }
      ],
      "source": [
        "jarakJktSby = 812\n",
        "id(jarakJktSby)"
      ]
    },
    {
      "cell_type": "code",
      "execution_count": null,
      "id": "0a69100a",
      "metadata": {
        "id": "0a69100a",
        "outputId": "ef8f2530-e759-4efe-f2ee-b700fda1ece9"
      },
      "outputs": [
        {
          "data": {
            "text/plain": [
              "812"
            ]
          },
          "execution_count": 8,
          "metadata": {},
          "output_type": "execute_result"
        }
      ],
      "source": [
        "jarakJktSby"
      ]
    },
    {
      "cell_type": "markdown",
      "id": "906f30a1",
      "metadata": {
        "id": "906f30a1"
      },
      "source": [
        "## 3.3. Multi Asssignment"
      ]
    },
    {
      "cell_type": "code",
      "execution_count": null,
      "id": "46459bdd",
      "metadata": {
        "id": "46459bdd"
      },
      "outputs": [],
      "source": [
        "umurAyah,umurIbu,umurKakak,umurSaya,umurAdik=40,38,16,14,12"
      ]
    },
    {
      "cell_type": "code",
      "execution_count": null,
      "id": "0003f10a",
      "metadata": {
        "id": "0003f10a",
        "outputId": "1d86f096-3fb0-4475-d6ab-82b994fbd6e5"
      },
      "outputs": [
        {
          "data": {
            "text/plain": [
              "16"
            ]
          },
          "execution_count": 69,
          "metadata": {},
          "output_type": "execute_result"
        }
      ],
      "source": [
        "umurKakak"
      ]
    },
    {
      "cell_type": "markdown",
      "id": "96fad640",
      "metadata": {
        "id": "96fad640"
      },
      "source": [
        "## 3.4. Konversi Tipe"
      ]
    },
    {
      "cell_type": "markdown",
      "id": "8565720e",
      "metadata": {
        "id": "8565720e"
      },
      "source": [
        "### Konversi Implisit\n",
        "\n",
        "Python melakukan konversi data dari satu tipe ke tipe lain secara otomatis."
      ]
    },
    {
      "cell_type": "code",
      "execution_count": null,
      "id": "4338f31d",
      "metadata": {
        "id": "4338f31d",
        "outputId": "411d1654-c7cd-4ef4-8ad8-961e420501d2"
      },
      "outputs": [
        {
          "name": "stdout",
          "output_type": "stream",
          "text": [
            "Tipe Data num_int: <class 'int'>\n",
            "Tipe Data of num_flo: <class 'float'>\n",
            "Tipe Data setelah penjumlahan: <class 'float'>\n"
          ]
        }
      ],
      "source": [
        "num_int = 123\n",
        "num_flo = 1.23\n",
        "num_new = num_int + num_flo\n",
        "\n",
        "print(\"Tipe Data num_int:\",type(num_int))\n",
        "print(\"Tipe Data of num_flo:\",type(num_flo))\n",
        "print(\"Tipe Data setelah penjumlahan:\",type(num_new))"
      ]
    },
    {
      "cell_type": "markdown",
      "id": "94c14a36",
      "metadata": {
        "id": "94c14a36"
      },
      "source": [
        "### Konversi Eksplisit (Typecasting)\n",
        "\n",
        "User mengubah konversi tipe data dari tipe data awal ke tipe data yang diinginkan. Untuk melakukan hal ini, dengan fungsi awal `int()`, `float()`, `str()`."
      ]
    },
    {
      "cell_type": "code",
      "execution_count": null,
      "id": "cc6fa6da",
      "metadata": {
        "id": "cc6fa6da",
        "outputId": "7c6244f9-8a5a-4c53-fcd0-bf4fe5da84d4"
      },
      "outputs": [
        {
          "name": "stdout",
          "output_type": "stream",
          "text": [
            "Tipe data saat ini <class 'str'>\n",
            "Tipe setelah konversi <class 'float'>\n",
            "Tipe setelah konversi <class 'float'>\n"
          ]
        }
      ],
      "source": [
        "# int variable\n",
        "var_char1 = '5'\n",
        "print ('Tipe data saat ini', type(var_char1))\n",
        "\n",
        "# typecast to float\n",
        "var_float1 = float(var_char1)\n",
        "print ('Tipe setelah konversi', type(var_float1))\n",
        "\n",
        "# typecast to int\n",
        "var_int1 = float(var_float1)\n",
        "print ('Tipe setelah konversi', type(var_int1))"
      ]
    },
    {
      "cell_type": "code",
      "execution_count": null,
      "id": "0efacfb9",
      "metadata": {
        "id": "0efacfb9",
        "outputId": "5f4fa10d-7d2c-4716-a77f-2352e61504dd"
      },
      "outputs": [
        {
          "data": {
            "text/plain": [
              "'80'"
            ]
          },
          "execution_count": 71,
          "metadata": {},
          "output_type": "execute_result"
        }
      ],
      "source": [
        "nilaiA=80\n",
        "nilaiA_str=str(nilaiA)\n",
        "nilaiA_str"
      ]
    },
    {
      "cell_type": "code",
      "execution_count": null,
      "id": "cb267f2f",
      "metadata": {
        "id": "cb267f2f",
        "outputId": "617de000-5e52-465f-b8ea-7c6b7b5613dd"
      },
      "outputs": [
        {
          "data": {
            "text/plain": [
              "589"
            ]
          },
          "execution_count": 74,
          "metadata": {},
          "output_type": "execute_result"
        }
      ],
      "source": [
        "nilaiB='589'\n",
        "nilaiB_int=int(nilaiB)\n",
        "nilaiB_int"
      ]
    },
    {
      "cell_type": "markdown",
      "id": "c51c0011",
      "metadata": {
        "id": "c51c0011"
      },
      "source": [
        "## Meminta User Memasukkan Masukan"
      ]
    },
    {
      "cell_type": "code",
      "execution_count": null,
      "id": "cce571d1",
      "metadata": {
        "id": "cce571d1",
        "outputId": "c666f54e-a6be-4a35-b556-743368fc83b3"
      },
      "outputs": [
        {
          "name": "stdout",
          "output_type": "stream",
          "text": [
            "345\n"
          ]
        }
      ],
      "source": [
        "hey=int(input())"
      ]
    },
    {
      "cell_type": "code",
      "execution_count": null,
      "id": "be45c1e2",
      "metadata": {
        "id": "be45c1e2",
        "outputId": "ea734dc0-281a-44aa-a6be-7739bc398a7e"
      },
      "outputs": [
        {
          "data": {
            "text/plain": [
              "int"
            ]
          },
          "execution_count": 79,
          "metadata": {},
          "output_type": "execute_result"
        }
      ],
      "source": [
        "type(hey)"
      ]
    },
    {
      "cell_type": "markdown",
      "id": "6f372dfd",
      "metadata": {
        "id": "6f372dfd"
      },
      "source": [
        "# 4. Komentar dan Docstring\n",
        "\n",
        "Komentar di python dapat dibuat dengan mengawali suatu baris dengan tanda tagar **(#)**.\n",
        "Komentar dapat dibuat untuk membuat kode lebih dapat dibaca dan juga dapat digunakan sebagai alat bantu untuk mengeksekusi dalam melakukan pengetesan kode.\n",
        "\n",
        "Petik tiga (triple quotes) sesuai dengan Python documentation merupakan `docstrings` dan tidak dianggap komentar. Apapun didalam petik tiga akan dibaca oleh interpreter. Python's triple quotes comes to the rescue by allowing strings to span multiple lines, including verbatim NEWLINEs, TABs, and any other special characters.\n",
        "Similarly, single triple quotes can also be used for the same purpose as shown below:"
      ]
    },
    {
      "cell_type": "code",
      "execution_count": null,
      "id": "4551db60",
      "metadata": {
        "id": "4551db60",
        "outputId": "efffc22f-8567-47b3-8370-f29f5998cac8"
      },
      "outputs": [
        {
          "name": "stdout",
          "output_type": "stream",
          "text": [
            "Ini adalah suatu\n",
            "docstring yang digunakan untuk memfasilitasi \n",
            "adanya string di beberapa baris. Ingat, ini bukan komentar.\n",
            "Di sini, kita bisa juga masukkan spesial karakter seperti % $ & tanpa masalah\n"
          ]
        }
      ],
      "source": [
        "# KOMENTAR\n",
        "\n",
        "# KOMENTAR INI DIBUAT DALAM\n",
        "# BEBERAPA BARIS\n",
        "# JADI KALAU MAU BUAT BEBERAPA BARIS, TAGARNYA DI SETIAP BARIS YA\n",
        "\n",
        "\n",
        "a= \"\"\"Ini adalah suatu\n",
        "docstring yang digunakan untuk memfasilitasi\n",
        "adanya string di beberapa baris. Ingat, ini bukan komentar.\n",
        "Di sini, kita bisa juga masukkan spesial karakter seperti % $ & tanpa masalah\"\"\"\n",
        "print(a)"
      ]
    },
    {
      "cell_type": "code",
      "execution_count": null,
      "id": "d6be3a01",
      "metadata": {
        "id": "d6be3a01",
        "outputId": "703e1053-a168-4fa2-c1eb-be906b1e7911"
      },
      "outputs": [
        {
          "data": {
            "text/plain": [
              "'dia akan pergi\\nke Jakarta'"
            ]
          },
          "execution_count": 86,
          "metadata": {},
          "output_type": "execute_result"
        }
      ],
      "source": [
        "teks=\"\"\"dia akan pergi\n",
        "ke Jakarta\"\"\"\n",
        "teks"
      ]
    },
    {
      "cell_type": "markdown",
      "id": "8aab2685",
      "metadata": {
        "id": "8aab2685"
      },
      "source": [
        "# 5. Operasi String"
      ]
    },
    {
      "cell_type": "markdown",
      "id": "e5eb18c7",
      "metadata": {
        "id": "e5eb18c7"
      },
      "source": [
        "![Indexing](https://raw.githubusercontent.com/ansyaku/asset/main/indexing.jpg)"
      ]
    },
    {
      "cell_type": "markdown",
      "id": "33a7019c",
      "metadata": {
        "id": "33a7019c"
      },
      "source": [
        "### Notasi Indexing\n",
        "\n",
        "$[start:stop:step]$"
      ]
    },
    {
      "cell_type": "markdown",
      "id": "8f427d38",
      "metadata": {
        "id": "8f427d38"
      },
      "source": [
        "## 5.1 Slicing String"
      ]
    },
    {
      "cell_type": "code",
      "execution_count": null,
      "id": "e7267b2b",
      "metadata": {
        "id": "e7267b2b",
        "outputId": "86988c93-58b9-4f17-c3ea-25e9779a1edf"
      },
      "outputs": [
        {
          "data": {
            "text/plain": [
              "11"
            ]
          },
          "execution_count": 87,
          "metadata": {},
          "output_type": "execute_result"
        }
      ],
      "source": [
        "word1='MISANTROPHE'\n",
        "len(word1)"
      ]
    },
    {
      "cell_type": "code",
      "execution_count": null,
      "id": "6dd45a2f",
      "metadata": {
        "id": "6dd45a2f",
        "outputId": "08761bb1-a675-4de2-b2bd-d30fa7a3d321"
      },
      "outputs": [
        {
          "name": "stdout",
          "output_type": "stream",
          "text": [
            "Dua Huruf Pertama------ MI\n",
            "Tiga Huruf Pertama------ MIS\n",
            "Selain Tiga Huruf Terakhir------ MISANTRO\n",
            "Huruf Ketiga sampai Huruf Kelima------ SAN\n"
          ]
        }
      ],
      "source": [
        "print('Dua Huruf Pertama------', word1[0:2])\n",
        "print('Tiga Huruf Pertama------', word1[:3])\n",
        "print('Selain Tiga Huruf Terakhir------', word1[:-3])\n",
        "print('Huruf Ketiga sampai Huruf Kelima------', word1[2:5])"
      ]
    },
    {
      "cell_type": "markdown",
      "id": "fcdadeca",
      "metadata": {
        "id": "fcdadeca"
      },
      "source": [
        "## 5.2 Menemukan Sesuatu di String"
      ]
    },
    {
      "cell_type": "code",
      "execution_count": null,
      "id": "a405baeb",
      "metadata": {
        "id": "a405baeb",
        "outputId": "7e432fa3-f85b-49e6-a15f-622525d3a95a"
      },
      "outputs": [
        {
          "data": {
            "text/plain": [
              "True"
            ]
          },
          "execution_count": 90,
          "metadata": {},
          "output_type": "execute_result"
        }
      ],
      "source": [
        "word2=\"HATI-HATI DI JALAN\"\n",
        "'DI' in word2"
      ]
    },
    {
      "cell_type": "code",
      "execution_count": null,
      "id": "b04b8ff9",
      "metadata": {
        "id": "b04b8ff9",
        "outputId": "86f8ee40-3b7a-4d0d-97e8-818f75e793ed"
      },
      "outputs": [
        {
          "data": {
            "text/plain": [
              "0"
            ]
          },
          "execution_count": 96,
          "metadata": {},
          "output_type": "execute_result"
        }
      ],
      "source": [
        "word2.find('')"
      ]
    },
    {
      "cell_type": "markdown",
      "id": "528ea4a3",
      "metadata": {
        "id": "528ea4a3"
      },
      "source": [
        "## 5.3 Mengganti Sesuatu di String"
      ]
    },
    {
      "cell_type": "code",
      "execution_count": null,
      "id": "45202f31",
      "metadata": {
        "id": "45202f31",
        "outputId": "49199bde-1de6-4867-a26c-c2e7e3af0986"
      },
      "outputs": [
        {
          "name": "stdout",
          "output_type": "stream",
          "text": [
            "HETI-HETI DI JELEN\n"
          ]
        }
      ],
      "source": [
        "word3 = word2.replace(\"A\", \"E\")\n",
        "print(word3)"
      ]
    },
    {
      "cell_type": "markdown",
      "id": "2355c049",
      "metadata": {
        "id": "2355c049"
      },
      "source": [
        "## 5.4 Format Operators\n",
        "\n",
        "Format operator **(%d)**, **(%s)**, etc."
      ]
    },
    {
      "cell_type": "code",
      "execution_count": null,
      "id": "b7686161",
      "metadata": {
        "id": "b7686161",
        "outputId": "ef1ea676-6e58-46e5-c08a-deaa7f81f20a"
      },
      "outputs": [
        {
          "name": "stdout",
          "output_type": "stream",
          "text": [
            "Ada 40 peserta di diklat ini.\n",
            "Nama saya SYAFEEER usia saya 21 tahun!\n"
          ]
        }
      ],
      "source": [
        "psrt_dklat= 40\n",
        "print('Ada %d peserta di diklat ini.' %psrt_dklat)\n",
        "print(\"Nama saya %s usia saya %d tahun!\" % ('SYAFEEER', 21))"
      ]
    },
    {
      "cell_type": "code",
      "execution_count": null,
      "id": "024efbd5",
      "metadata": {
        "id": "024efbd5",
        "outputId": "c693bc1e-9efb-4069-a955-ad72f20b22f8"
      },
      "outputs": [
        {
          "name": "stdout",
          "output_type": "stream",
          "text": [
            "Di tempat kami jam 7 adalah jam masuk 7 kantor.\n"
          ]
        }
      ],
      "source": [
        "jam_masuk=7\n",
        "print('Di tempat kami jam %d adalah jam masuk %d kantor.' %(jam_masuk, jam_masuk))"
      ]
    },
    {
      "cell_type": "code",
      "execution_count": null,
      "id": "9973290d",
      "metadata": {
        "id": "9973290d",
        "outputId": "0ef2b8b4-182d-440e-a46b-e44266bceaa3"
      },
      "outputs": [
        {
          "data": {
            "text/plain": [
              "7"
            ]
          },
          "execution_count": 103,
          "metadata": {},
          "output_type": "execute_result"
        }
      ],
      "source": [
        "jam_masuk"
      ]
    },
    {
      "cell_type": "markdown",
      "id": "1387cf75",
      "metadata": {
        "id": "1387cf75"
      },
      "source": [
        "# 6. Pengandaian\n",
        "\n",
        "`if`, `elif`, `else`\n",
        "\n",
        "`elif` opsi opsi lainnya\n",
        "`else` opsi terakhir"
      ]
    },
    {
      "cell_type": "code",
      "execution_count": null,
      "id": "a8faa82f",
      "metadata": {
        "id": "a8faa82f",
        "outputId": "f5b141ab-bbf9-490b-912b-71cdc1fad8a3"
      },
      "outputs": [
        {
          "name": "stdout",
          "output_type": "stream",
          "text": [
            "Kuy masukkan angkamu: 98\n"
          ]
        }
      ],
      "source": [
        "angka=int(input(\"Kuy masukkan angkamu: \"))"
      ]
    },
    {
      "cell_type": "code",
      "execution_count": null,
      "id": "0bbfc5bd",
      "metadata": {
        "id": "0bbfc5bd",
        "outputId": "62066944-80de-48b8-9884-3bd085eb88f7"
      },
      "outputs": [
        {
          "name": "stdout",
          "output_type": "stream",
          "text": [
            "Terimakasih, kamu sudah selesai periksa angka. \n",
            " Mohon maaf kalau angkamu tidak ganjil keluarannya gak ada ya!\n"
          ]
        }
      ],
      "source": [
        "if angka%2==1:\n",
        "    print(\"Angka\",angka,\"adalah angka ganjil\")\n",
        "\n",
        "\n",
        "\n",
        "print(\"Terimakasih, kamu sudah selesai periksa angka.\",\n",
        "      \"\\n Mohon maaf kalau angkamu tidak ganjil keluarannya gak ada ya!\")"
      ]
    },
    {
      "cell_type": "code",
      "execution_count": null,
      "id": "60294fb0",
      "metadata": {
        "id": "60294fb0",
        "outputId": "8a1fbe37-e050-4cd4-8f6a-782a5becbdd2"
      },
      "outputs": [
        {
          "name": "stdout",
          "output_type": "stream",
          "text": [
            "Angka 98 adalah angka genap\n"
          ]
        }
      ],
      "source": [
        "if angka%2==1:\n",
        "    print(\"Angka\",angka,\"adalah angka ganjil\")\n",
        "else:\n",
        "    print(\"Angka\",angka,\"adalah angka genap\")"
      ]
    },
    {
      "cell_type": "markdown",
      "id": "9e7430dc",
      "metadata": {
        "id": "9e7430dc"
      },
      "source": [
        "### ====================Notes====================================\n",
        "1. Pernyataaan setelah `if`, `elif` atau `else` harus diakhiri dengan tanda titik dua (:)\n",
        "2. Dalam satu paket `if - elif - else`, susunannya selalu segaris. </br>Jika tidak segaris maka bukanlah struktur utama dari pengandaian tersebut.\n",
        "3. Selalu terdapat **4 spasi indentasi** antara `if - elif - else` dengan konsekuensinya."
      ]
    },
    {
      "cell_type": "code",
      "execution_count": null,
      "id": "b129e6c0",
      "metadata": {
        "id": "b129e6c0",
        "outputId": "0db74d14-ea58-4241-b9c6-1fce6c59e550"
      },
      "outputs": [
        {
          "name": "stdout",
          "output_type": "stream",
          "text": [
            "Kuy masukkan angka pertamamu: 65\n"
          ]
        }
      ],
      "source": [
        "angka2=int(input(\"Kuy masukkan angka pertamamu: \"))"
      ]
    },
    {
      "cell_type": "code",
      "execution_count": null,
      "id": "a9ec34cf",
      "metadata": {
        "id": "a9ec34cf",
        "outputId": "67f7d666-82b2-4abc-b4b5-b62f0d513ece"
      },
      "outputs": [
        {
          "name": "stdout",
          "output_type": "stream",
          "text": [
            "Kuy masukkan angka keduamu: 89\n"
          ]
        }
      ],
      "source": [
        "angka3=int(input(\"Kuy masukkan angka keduamu: \"))"
      ]
    },
    {
      "cell_type": "code",
      "execution_count": null,
      "id": "4ed88b13",
      "metadata": {
        "id": "4ed88b13",
        "outputId": "ef406238-8502-426d-97a9-df6f2dc8fcd3"
      },
      "outputs": [
        {
          "name": "stdout",
          "output_type": "stream",
          "text": [
            "65 LEBIH KECIL DARI 89\n"
          ]
        }
      ],
      "source": [
        "if angka2 > angka3:\n",
        "    print(angka2, 'LEBIH BESAR DARI',angka3 )\n",
        "elif angka2 < angka3:\n",
        "    print(angka2, 'LEBIH KECIL DARI',angka3 )\n",
        "else:\n",
        "    print(angka2, 'SAMA DENGAN',angka3 )"
      ]
    },
    {
      "cell_type": "markdown",
      "id": "76ff20cf",
      "metadata": {
        "id": "76ff20cf"
      },
      "source": [
        ">> \" Jangan lupa bahwa operator **=** adalah untuk penugasan. Untuk perbandingan gunakan operator perbandingan **==** \""
      ]
    },
    {
      "cell_type": "markdown",
      "id": "70a81a5f",
      "metadata": {
        "id": "70a81a5f"
      },
      "source": [
        "=====================================================\n",
        "# TUGAS UNTUK ASYNCHRONOUS 1\n",
        "=====================================================\n",
        "\n",
        "## Tugas 1\n",
        "\n",
        "Buatlah sebuah program yang mendapatkan angka menit dari user. Kemudian program akan melakukan perhitungan dan menghasilkan keluaran berupa jam dan menit sisanya bila ada.\n",
        "\n",
        "**Contoh keluaran bila input dari user 121:<br>**\n",
        "Hours</br>\n",
        "2</br>\n",
        "Minutes</br>\n",
        "1</br>\n",
        "\n",
        "## Tugas 2\n",
        "\n",
        "Berikut adalah suatu string\n",
        "**str = ’X-DSPAM-Confidence:0.8475’**</br>\n",
        "Gunakan 'find' dan 'string slicing' untuk mengekstrak porsi dari karakter setelah tanda kolon, kemudian gunakan ubahlah menjadi data float."
      ]
    },
    {
      "cell_type": "code",
      "source": [
        "def convert_minutes(menit:int):\n",
        "  print(f\"Hours\\n{round(menit/60)}\\nMinutes\\n{menit%60}\")"
      ],
      "metadata": {
        "id": "wvPqBocJsj_d"
      },
      "id": "wvPqBocJsj_d",
      "execution_count": 12,
      "outputs": []
    },
    {
      "cell_type": "code",
      "source": [
        "angka_menit = int(input(\"input menit : \"))\n",
        "\n",
        "convert_minutes(angka_menit)"
      ],
      "metadata": {
        "id": "4zQenOmhsYrU",
        "outputId": "89c978e2-91a3-4664-c1bf-7ad905ed82d3",
        "colab": {
          "base_uri": "https://localhost:8080/"
        }
      },
      "id": "4zQenOmhsYrU",
      "execution_count": 13,
      "outputs": [
        {
          "output_type": "stream",
          "name": "stdout",
          "text": [
            "input menit : 321\n",
            "Hours\n",
            "5\n",
            "Minutes\n",
            "21\n"
          ]
        }
      ]
    },
    {
      "cell_type": "code",
      "source": [
        "str_data = 'X-DSPAM-Confidence:0.8475'\n",
        "\n",
        "float(str_data.split(':')[1])"
      ],
      "metadata": {
        "id": "lLJahQ5Vt7yU",
        "outputId": "c92a246d-8a1b-4165-ee9b-6ab6b694cc7c",
        "colab": {
          "base_uri": "https://localhost:8080/"
        }
      },
      "id": "lLJahQ5Vt7yU",
      "execution_count": 14,
      "outputs": [
        {
          "output_type": "execute_result",
          "data": {
            "text/plain": [
              "0.8475"
            ]
          },
          "metadata": {},
          "execution_count": 14
        }
      ]
    },
    {
      "cell_type": "markdown",
      "id": "b9b912e3",
      "metadata": {
        "id": "b9b912e3"
      },
      "source": [
        "## 6.1 Pengandaian Singkat"
      ]
    },
    {
      "cell_type": "markdown",
      "id": "f3b30b45",
      "metadata": {
        "id": "f3b30b45"
      },
      "source": [
        "**KONSEKUENSI 1** `if` **PENGANDAIAN 1** `else` **KONSEKUENSI 2**"
      ]
    },
    {
      "cell_type": "code",
      "execution_count": null,
      "id": "33d99df5",
      "metadata": {
        "id": "33d99df5",
        "outputId": "901c56d8-606b-4b1a-cd90-855953ca4f6a"
      },
      "outputs": [
        {
          "name": "stdout",
          "output_type": "stream",
          "text": [
            "Perut Kenyang\n"
          ]
        }
      ],
      "source": [
        "## Bila saya sudah makan maka perut kenyang, jika tidak maka saya masih lapar\n",
        "\n",
        "kondisi = 'Sudah Makan'\n",
        "\n",
        "print('Perut Kenyang') if kondisi =='Sudah Makan' else 'Masih Lapar'"
      ]
    },
    {
      "cell_type": "code",
      "execution_count": null,
      "id": "17126d65",
      "metadata": {
        "id": "17126d65",
        "outputId": "1a294191-5415-44c3-8c9d-852fb71ee393"
      },
      "outputs": [
        {
          "name": "stdout",
          "output_type": "stream",
          "text": [
            "Perut Kenyang\n"
          ]
        }
      ],
      "source": [
        "if kondisi == \"Sudah Makan\":\n",
        "    print('Perut Kenyang')\n",
        "else:\n",
        "    print('Masih Lapar')"
      ]
    },
    {
      "cell_type": "markdown",
      "id": "9d6bdac4",
      "metadata": {
        "id": "9d6bdac4"
      },
      "source": [
        "# 7. Perulangan (Iterasi)"
      ]
    },
    {
      "cell_type": "markdown",
      "id": "88db7d96",
      "metadata": {
        "id": "88db7d96"
      },
      "source": [
        "## 7.1. while Loops\n",
        "\n",
        "digunakan bila kita tidak tahu berapa kali perulangan akan dilakukan."
      ]
    },
    {
      "cell_type": "code",
      "execution_count": null,
      "id": "7aa44e65",
      "metadata": {
        "id": "7aa44e65",
        "outputId": "12405b9b-1c8a-42a6-f65b-ea6a6136185f"
      },
      "outputs": [
        {
          "name": "stdout",
          "output_type": "stream",
          "text": [
            "Ini adalah hasil iterasi ke- 1\n",
            "Ini adalah hasil iterasi ke- 2\n",
            "Ini adalah hasil iterasi ke- 3\n",
            "Ini adalah hasil iterasi ke- 4\n",
            "Ini adalah hasil iterasi ke- 5\n"
          ]
        }
      ],
      "source": [
        "counter = 0\n",
        "while (counter<5):\n",
        "    counter = counter+1\n",
        "    print('Ini adalah hasil iterasi ke-',counter)"
      ]
    },
    {
      "cell_type": "markdown",
      "id": "a22ef1c5",
      "metadata": {
        "id": "a22ef1c5"
      },
      "source": [
        "## 7.2. for Loops\n",
        "digunakan bila kita tahu berapa kali perulangan akan dilakukan. Digunakan pada suatu sequence (string, tuple, list, set, etc)."
      ]
    },
    {
      "cell_type": "code",
      "execution_count": null,
      "id": "473467b0",
      "metadata": {
        "id": "473467b0"
      },
      "outputs": [],
      "source": [
        "kaunter=5\n",
        "for kaunter in range(0,kaunter):\n",
        "    print('Ini adalah hasil iterasi ke-', kaunter)"
      ]
    },
    {
      "cell_type": "code",
      "execution_count": null,
      "id": "683cc5a5",
      "metadata": {
        "id": "683cc5a5",
        "outputId": "6aef26f4-caba-4a68-f721-d94ef62812b4"
      },
      "outputs": [
        {
          "name": "stdout",
          "output_type": "stream",
          "text": [
            "6\n",
            "5\n",
            "6\n",
            "7\n"
          ]
        }
      ],
      "source": [
        "angka5=6567\n",
        "angka6=str(angka5)\n",
        "for i in angka6:\n",
        "    print(i)"
      ]
    },
    {
      "cell_type": "code",
      "execution_count": null,
      "id": "81b1935d",
      "metadata": {
        "id": "81b1935d",
        "outputId": "d0443490-b6aa-4ad1-d23e-873458eaaa39"
      },
      "outputs": [
        {
          "name": "stdout",
          "output_type": "stream",
          "text": [
            "M\n",
            "O\n",
            "T\n",
            "O\n",
            "R\n",
            " \n",
            "H\n",
            "O\n",
            "N\n",
            "D\n",
            "A\n",
            " \n",
            "M\n",
            "A\n",
            "T\n",
            "I\n",
            "C\n"
          ]
        }
      ],
      "source": [
        "str2=\"MOTOR HONDA MATIC\"\n",
        "for i in str2:\n",
        "    print(i)"
      ]
    },
    {
      "cell_type": "code",
      "execution_count": null,
      "id": "560491cd",
      "metadata": {
        "id": "560491cd"
      },
      "outputs": [],
      "source": [
        "var3=7\n",
        "while var3>0 :\n",
        "    var3=var3+1"
      ]
    },
    {
      "cell_type": "markdown",
      "id": "339b4e59",
      "metadata": {
        "id": "339b4e59"
      },
      "source": [
        "## 7.3. Continue statement\n",
        "\n",
        "Apabila ketemu dengan suatu syarat, maka nilai ekspresi pada syarat itu tidak di evaluasi, evaluasi dilanjutkan langsung ke nilai berikutnya."
      ]
    },
    {
      "cell_type": "code",
      "execution_count": null,
      "id": "638e1d01",
      "metadata": {
        "id": "638e1d01",
        "outputId": "f70b1e91-017f-4091-eb8f-3ea25ed1ab7d"
      },
      "outputs": [
        {
          "name": "stdout",
          "output_type": "stream",
          "text": [
            "Nilai saat ini 0\n",
            "Nilai saat ini 1\n",
            "Nilai saat ini 2\n",
            "Nilai saat ini 4\n"
          ]
        }
      ],
      "source": [
        "for nilaiA in range(5):\n",
        "    if nilaiA == 3:\n",
        "        continue\n",
        "    print('Nilai saat ini', nilaiA)"
      ]
    },
    {
      "cell_type": "markdown",
      "id": "542924fd",
      "metadata": {
        "id": "542924fd"
      },
      "source": [
        "## 7.4. Break Statement\n",
        "Apabila ketemu dengan suatu syarat, maka evaluasi dihentikan."
      ]
    },
    {
      "cell_type": "code",
      "execution_count": null,
      "id": "bd3a0777",
      "metadata": {
        "id": "bd3a0777",
        "outputId": "a8aa0553-358a-405c-c64f-50b0ea22c02f"
      },
      "outputs": [
        {
          "name": "stdout",
          "output_type": "stream",
          "text": [
            "Nilai saat ini 0\n",
            "Nilai saat ini 1\n",
            "Nilai saat ini 2\n",
            "Nilai terakhir hanya sampai 3\n"
          ]
        }
      ],
      "source": [
        "for nilaiB in range(5):\n",
        "    if nilaiB == 3:\n",
        "        break\n",
        "    print('Nilai saat ini', nilaiB)\n",
        "\n",
        "print('Nilai terakhir hanya sampai', nilaiB)"
      ]
    },
    {
      "cell_type": "markdown",
      "id": "20d244f6",
      "metadata": {
        "id": "20d244f6"
      },
      "source": [
        "## 7.5. Pass Statement\n",
        "Apabila ketemu dengan suatu syarat, maka evaluasi dilanjutkan"
      ]
    },
    {
      "cell_type": "code",
      "execution_count": null,
      "id": "235ef66d",
      "metadata": {
        "id": "235ef66d",
        "outputId": "f9d812c6-6003-403d-abee-b8ecb0b88fa2"
      },
      "outputs": [
        {
          "name": "stdout",
          "output_type": "stream",
          "text": [
            "Nilai saat ini 0\n",
            "Nilai saat ini 1\n",
            "Nilai saat ini 2\n",
            "Di sini ada pass\n",
            "Nilai saat ini 3\n",
            "Nilai saat ini 4\n"
          ]
        }
      ],
      "source": [
        "for nilaiB in range(5):\n",
        "    if nilaiB == 3:\n",
        "        pass\n",
        "        print('Di sini ada pass')\n",
        "    print('Nilai saat ini', nilaiB)"
      ]
    },
    {
      "cell_type": "markdown",
      "id": "b6d5c5b3",
      "metadata": {
        "id": "b6d5c5b3"
      },
      "source": [
        "# 8. Fungsi\n",
        "## 8.1 Build in Function\n",
        "\n",
        "Python memiliki fungsi-fungsi yang sudah didefinisikan sendiri oleh pembuat bahasa python. Seperti,\n",
        "`max()`, `round()`, `len()`, `sum()`."
      ]
    },
    {
      "cell_type": "code",
      "execution_count": null,
      "id": "ad5e3c63",
      "metadata": {
        "id": "ad5e3c63",
        "outputId": "8f8b8261-b116-4752-d410-364a705953bf"
      },
      "outputs": [
        {
          "name": "stdout",
          "output_type": "stream",
          "text": [
            "8856\n",
            "27\n"
          ]
        }
      ],
      "source": [
        "print(max(123,8856, 21, 4, 756, 22))\n",
        "print(len('Honorificabilitudinitatibus'))"
      ]
    },
    {
      "cell_type": "markdown",
      "id": "adee095c",
      "metadata": {
        "id": "adee095c"
      },
      "source": [
        "### 8.2 User Defined Function\n",
        "\n",
        "User dapat membuat sendiri fungsi di python sesuai dengan yang diinginkannya. Untuk membuat fungsi kita menggunakan reserved word `def`.\n",
        "Bentuk umum dari UDF :\n",
        "```python\n",
        "def NAMA_FUNGSI (PARAMETER_1,PARAMETER_2, ...,PARAMETER_N):\n",
        "    ALGORITMA_FUNGSI\n",
        "```"
      ]
    },
    {
      "cell_type": "code",
      "execution_count": null,
      "id": "951609c6",
      "metadata": {
        "id": "951609c6",
        "outputId": "faa06f8f-69b6-49b7-e74a-c289c931e4e3"
      },
      "outputs": [
        {
          "name": "stdout",
          "output_type": "stream",
          "text": [
            "Luas Lingkaran 3422.5714285714284\n"
          ]
        }
      ],
      "source": [
        "def hitung_luas_lingkaran(jejari):\n",
        "    luas=22/7*jejari**2\n",
        "    return luas\n",
        "print (\"Luas Lingkaran\", hitung_luas_lingkaran(33))"
      ]
    },
    {
      "cell_type": "code",
      "execution_count": null,
      "id": "b4622143",
      "metadata": {
        "id": "b4622143",
        "outputId": "27883903-5dc9-4781-ef3f-c164bd670057"
      },
      "outputs": [
        {
          "name": "stdout",
          "output_type": "stream",
          "text": [
            "Luas Lingkaran 15.700000000000001\n"
          ]
        }
      ],
      "source": [
        "def hitung_luas_lingkaran2(jejari2, pi=3.14):\n",
        "    luas2=pi*jejari2\n",
        "    return luas2\n",
        "print (\"Luas Lingkaran\", hitung_luas_lingkaran2(5))"
      ]
    },
    {
      "cell_type": "code",
      "execution_count": null,
      "id": "9033646a",
      "metadata": {
        "id": "9033646a",
        "outputId": "5ddf01fe-8582-41ce-d94f-e9b12ef47141"
      },
      "outputs": [
        {
          "name": "stdout",
          "output_type": "stream",
          "text": [
            "Volume Balok 240\n"
          ]
        }
      ],
      "source": [
        "def hitung_volume_balok(p,l,t):\n",
        "    volume=p*l*t\n",
        "    return volume\n",
        "print (\"Volume Balok\", hitung_volume_balok(5,6,8))"
      ]
    },
    {
      "cell_type": "markdown",
      "id": "452602c5",
      "metadata": {
        "id": "452602c5"
      },
      "source": [
        "#### Unpacking operator **(*)**\n",
        "digunakan untuk menerima masukan parameter sebanyak mungkin"
      ]
    },
    {
      "cell_type": "code",
      "execution_count": null,
      "id": "9c43c7b8",
      "metadata": {
        "id": "9c43c7b8"
      },
      "outputs": [],
      "source": [
        "def rata_rata(*gui):\n",
        "    tot = 0\n",
        "    for a in gui:\n",
        "        tot += a\n",
        "    return tot/len(gui)"
      ]
    },
    {
      "cell_type": "code",
      "execution_count": null,
      "id": "ce881933",
      "metadata": {
        "id": "ce881933",
        "outputId": "41b3ed04-ee5b-4f94-a99e-280483331d5d"
      },
      "outputs": [
        {
          "name": "stdout",
          "output_type": "stream",
          "text": [
            "Hasil rata-rata-1: 264.2\n",
            "Hasil rata-rata-2: 41.0\n",
            "Hasil rata-rata-3: 33.25\n"
          ]
        }
      ],
      "source": [
        "print('Hasil rata-rata-1:', rata_rata(1,545,678,32,89,357,777,82,34,47))\n",
        "print('Hasil rata-rata-2:', rata_rata(23,55,45))\n",
        "print('Hasil rata-rata-3:', rata_rata(-11, -22, 89, 77))"
      ]
    },
    {
      "cell_type": "markdown",
      "id": "6db7039d",
      "metadata": {
        "id": "6db7039d"
      },
      "source": [
        "## 8.3 Ekspresi Lambda\n",
        "\n",
        "Python memfasilitasi pembuatan fungsi anonimus, tanpa harus memberikan nama dengan `lambda`. Fungsi lambda hanya boleh mengandung satu ekspresi. Bentuk umum dari ekspresi lambda adalah sebagai berikut :</br>\n",
        "`lambda arguments: expression`"
      ]
    },
    {
      "cell_type": "code",
      "execution_count": null,
      "id": "42ae8292",
      "metadata": {
        "id": "42ae8292",
        "outputId": "8ad6d07c-3dd2-4b04-f093-e8017edd9ee3"
      },
      "outputs": [
        {
          "name": "stdout",
          "output_type": "stream",
          "text": [
            "57500.0\n"
          ]
        }
      ],
      "source": [
        "hrg_akhir= lambda hrg_jual, pdiskon, ongkir : hrg_jual-(hrg_jual*pdiskon)+ongkir\n",
        "print(hrg_akhir(50000,0.05,10000))"
      ]
    },
    {
      "cell_type": "code",
      "execution_count": null,
      "id": "b5ec2948",
      "metadata": {
        "id": "b5ec2948"
      },
      "outputs": [],
      "source": [
        "nama_singkat = lambda n_depan, n_tengah, n_belakang"
      ]
    },
    {
      "cell_type": "markdown",
      "id": "e1c0fbce",
      "metadata": {
        "id": "e1c0fbce"
      },
      "source": [
        "# Daftar Referensi :\n",
        "=============================================================================================\n",
        "1. Bell, Anna. 2018. **Get Programming Learn to Code With Python**. Manning\n",
        "2. Deitel, Paul and Deitel, Harvey. 2020. **Intro to Python for Computer Science and Data Science 3rd Edition**. Pearson Education\n",
        "3. Guttag, John V. 2021. **Introduction to Computation and Programming Using Python**. MIT Press\n",
        "4. Shaw, Zed.A. 2018. **Learn More Python 3 The Hard Way**. Addison-Weasley\n",
        "5. Severance, Charles. 2009. **Exploring Python 3**. Ann Arbor"
      ]
    },
    {
      "cell_type": "markdown",
      "id": "dda1256d",
      "metadata": {
        "id": "dda1256d"
      },
      "source": [
        "=====================================================\n",
        "# TUGAS UNTUK ASYNCHRONOUS 2\n",
        "=====================================================\n",
        "\n",
        "## Latihan 3:\n",
        "Banyaknya hari dalam satu bulan bervariasi dari 28 hingga 31. Buatlah program yang memasukkan\n",
        "nama bulan dari user (string). Kemudian program harus melakukan perhitungan jumlah hari dalam bulan tersebut.\n",
        "Untuk bulan februari keluaran berupa string **“28 atau 29 hari”** agar berlaku juga untuk bulan kabisat.\n",
        "\n",
        "## Latihan 4:\n",
        "\n",
        "Skala Richter\n",
        "Magnitude Descriptor\n",
        "Less than 2.0 Micro\n",
        "2.0 to less than 3.0 Very Minor\n",
        "3.0 to less than 4.0 Minor\n",
        "4.0 to less than 5.0 Light\n",
        "5.0 to less than 6.0 Moderate\n",
        "6.0 to less than 7.0 Strong\n",
        "7.0 to less than 8.0 Major\n",
        "8.0 to less than 10.0 Great\n",
        "10.0 or more Meteoric\n",
        "\n",
        "* Buatlah program yang membaca besarnya magnitude dari user dan memberikan keluaran terkait grade dari kekuatan gempa.\n",
        "* Contoh keluaran :\n",
        "  **'Gempa berskala 5,5 berkategori Moderat'**  \n",
        "  \n",
        "\n",
        "## Latihan 5:\n",
        "* Buatlah script yang menerima input berupa lima digit angka dari user.</br>\n",
        "* Pisahkan angka menjadi digit indivual. Print secara terpisah dengan separator berupa tiga spasi\n",
        "* Contoh: Jika user memasukkan 42339, maka hasil print</br>\n",
        "4   2   3   3   9</br>\n",
        "* Asumsikan bahwa user selalu menginput angka dalam panjang yang tepat.\n",
        "* Use both the floor division and remainder operations to “pick off ” each digit.\n",
        "\n",
        "## Latihan 6:\n",
        "Sebuah bilangan palindrom adalah angka yang jika dibaca dari depan kebelakang sama. Contoh:\n",
        "12321, 55555, 45554 and 11611.\n",
        "Tulislah sebuah program yang membaca lima digit bilangan bulat untuk menentukan apakah mereka palindrome atau bukan.\n",
        "[Hint: Use the // and % operators to separate the number into its digits.]\n",
        "\n",
        "\n",
        "## Latihan 7 :\n",
        "Konversi derajat celcius ke fahrenheit diatur oleh persamaan berikut :\n",
        "$F = (\\frac{9}{5}) * C + 32$\n",
        "Gunakan fungsi ini untuk memprint suatu daftar konversi temperatur dari celcius untuk range 0–100.\n",
        "Gunakan presisi 1 digit.\n",
        "\n",
        "## Latihan 8 :\n",
        "Pak Joni memiliki rencana untuk membeli sebuah rumah, tetapi sayangnya dia tidak punya banyak uang. Dia berencana untuk membeli tetapi dengan cicilan ke bank saja. Namun, sayangnya lagi-lagi untuk membayar DP pinjaman bankpun ia tidak punya. Oleh karena itu, dia berencana untuk menabung setiap bulan agar bisa membayar DP. Tugas anda : tentukan berapa lama dia harus menabung agar dia bisa membayar cicilan rumah tersebut.\n",
        "1.\tMintalah pak joni untuk membuat harga perkiraan rumah yang dia inginkan simpan pada variable, total_cost.\n",
        "2.\tBiasanya untuk DP rumah, bank akan mensyaratkan pembayaran DP sebesar 25%, simpan pada variabel portion_down_payment = 0.25.\n",
        "3.\tTanyakan pak joni berapa uang yang sudah dia punya selama ini yang dicadangkan untuk membayar DP, simpan pada variable current_savings nilai defaultnya boleh anda set 0.\n",
        "4.\tAsumsikan bahwa pak joni menginvestasikan tabungan dengan bijak, sehingga memperoleh bunga 5 % per tahun.\n",
        "5.\tSimpan gaji tahunan pak joni dalam variabel annual_salary.\n",
        "6.\tTanyakan pak Joni persen dari gaji pak joni yang dia sisishkan untuk menabung simpan pada variable portion_saved. Variabel ini berbentuk decimal (contoh 0.1 untuk persentase 10%).\n",
        "7.\tPada akhir tiap bulan bulan, tabungan anda akan meningkat sesuai dengan besarnya investasi  ditambah dengan porsi gaji yang ditabungkan (gaji tahunan/ 12)."
      ]
    },
    {
      "cell_type": "code",
      "source": [
        "bulan = {\n",
        "    'Januari' : 31,\n",
        "    'Februari' : '28 atau 29 hari',\n",
        "    'Maret' : 31,\n",
        "    'April' : 30,\n",
        "    'Mei' : 31,\n",
        "    'Juni' : 30,\n",
        "    'Juli' : 31,\n",
        "    'Agustus' : 31,\n",
        "    'September' : 30,\n",
        "    'Oktober' : 31,\n",
        "    'November' : 30,\n",
        "    'Desember' : 31\n",
        "}"
      ],
      "metadata": {
        "id": "NZ-MzYtzxvOi"
      },
      "id": "NZ-MzYtzxvOi",
      "execution_count": 21,
      "outputs": []
    },
    {
      "cell_type": "code",
      "source": [
        "nama_bulan = str(input('Nama bulan :'))\n",
        "\n",
        "if nama_bulan in bulan:\n",
        "  print(bulan.get(nama_bulan))\n",
        "else:\n",
        "  print('Input nama bulan tidak ada')"
      ],
      "metadata": {
        "id": "jCq_vlbHzgVb",
        "outputId": "59a99157-88e6-4c4e-8e2d-ee3d5aad9c66",
        "colab": {
          "base_uri": "https://localhost:8080/"
        }
      },
      "id": "jCq_vlbHzgVb",
      "execution_count": 31,
      "outputs": [
        {
          "output_type": "stream",
          "name": "stdout",
          "text": [
            "Nama bulan :Februari\n",
            "28 atau 29 hari\n"
          ]
        }
      ]
    },
    {
      "cell_type": "code",
      "source": [
        "skala_gempa = {\n",
        "    \"Micro\" : (0.00 , 2.00),\n",
        "    \"Very Minor\" : (2.00, 3.00),\n",
        "    \"Minor\" : (3.00, 4.00),\n",
        "    \"Light\" : (4.00,5.00),\n",
        "    \"Moderate\" : (5.00, 6.00),\n",
        "    \"Strong\" : (6.00, 7.00),\n",
        "    \"Major\" : (7.00, 8.00),\n",
        "    \"Great\" : (8.00, 9.00),\n",
        "    \"Meteoric\" : (9.00, 100.00)\n",
        "}\n",
        "\n",
        "for key, (start, end) in skala_gempa.items():\n",
        "  print(key, start, end)"
      ],
      "metadata": {
        "id": "maTe5wpa2oJB",
        "outputId": "fb02faaf-11fb-4605-e192-923f771af44f",
        "colab": {
          "base_uri": "https://localhost:8080/"
        }
      },
      "id": "maTe5wpa2oJB",
      "execution_count": 42,
      "outputs": [
        {
          "output_type": "stream",
          "name": "stdout",
          "text": [
            "Micro 0.0 2.0\n",
            "Very Minor 2.0 3.0\n",
            "Minor 3.0 4.0\n",
            "Light 4.0 5.0\n",
            "Moderate 5.0 6.0\n",
            "Strong 6.0 7.0\n",
            "Major 7.0 8.0\n",
            "Great 8.0 9.0\n",
            "Meteoric 9.0 100.0\n"
          ]
        }
      ]
    },
    {
      "cell_type": "code",
      "source": [
        "gempa = float(input(\"Skala gempa yang terjadi :\"))\n",
        "\n",
        "for key, (start, end) in skala_gempa.items():\n",
        "  if start <= gempa <= end:\n",
        "    print(f'Gempa terjadi dengan skala {gempa} dengan kategori {key}')"
      ],
      "metadata": {
        "id": "dCfCpni04Jf5",
        "outputId": "cb35916c-dfb6-4ea4-cf70-0bd25345d53d",
        "colab": {
          "base_uri": "https://localhost:8080/"
        }
      },
      "id": "dCfCpni04Jf5",
      "execution_count": 48,
      "outputs": [
        {
          "output_type": "stream",
          "name": "stdout",
          "text": [
            "Skala gempa yang terjadi :2.9\n",
            "Gempa terjadi dengan skala 2.9 dengan kategori Very Minor\n"
          ]
        }
      ]
    },
    {
      "cell_type": "code",
      "source": [
        "input_string_angka = str(input(\"Input angka :\"))\n",
        "\n",
        "print(\"  \".join([angka for angka in input_string_angka]))"
      ],
      "metadata": {
        "id": "-_0xYhBY9HT4",
        "outputId": "6a28ba8d-2451-49be-e223-8eaa2cc67c68",
        "colab": {
          "base_uri": "https://localhost:8080/"
        }
      },
      "id": "-_0xYhBY9HT4",
      "execution_count": 55,
      "outputs": [
        {
          "output_type": "stream",
          "name": "stdout",
          "text": [
            "Input angka :213654897\n",
            "2  1  3  6  5  4  8  9  7\n"
          ]
        }
      ]
    },
    {
      "cell_type": "code",
      "source": [
        "input_bilangan = str(input(\"Palindrom bilangan :\"))\n",
        "\n",
        "if input_bilangan == input_bilangan[::-1]:\n",
        "  print('Palindrom')\n",
        "else:\n",
        "  print('Bukan Palindrom')"
      ],
      "metadata": {
        "id": "dilsCyQv-_9O",
        "outputId": "cf8cefe0-46dd-43e3-8b6f-6d2b8aa350e1",
        "colab": {
          "base_uri": "https://localhost:8080/"
        }
      },
      "id": "dilsCyQv-_9O",
      "execution_count": 57,
      "outputs": [
        {
          "output_type": "stream",
          "name": "stdout",
          "text": [
            "Palindrom bilangan :1335331\n",
            "Palindrom\n"
          ]
        }
      ]
    },
    {
      "cell_type": "code",
      "source": [
        "import pandas as pd\n",
        "\n",
        "convert_to_fahrenheit = lambda x : round((x*(9/5) + 32), 2)\n",
        "\n",
        "\n",
        "tabel_konversi_temperatur = pd.DataFrame()\n",
        "for x in range(0,100):\n",
        "  row_data = [[x, (convert_to_fahrenheit(x))]]\n",
        "  df = pd.DataFrame(row_data)\n",
        "  tabel_konversi_temperatur = pd.concat([tabel_konversi_temperatur, df])\n",
        "\n",
        "tabel_konversi_temperatur.columns = ['Celcius', 'Fahrenheit']\n",
        "tabel_konversi_temperatur.head(10)"
      ],
      "metadata": {
        "id": "sK1AH30h0Teo"
      },
      "id": "sK1AH30h0Teo",
      "execution_count": null,
      "outputs": []
    },
    {
      "cell_type": "code",
      "source": [
        "harga_rumah = 600000000\n",
        "uang_muka = 0.25 * harga_rumah\n",
        "tabungan = 0\n",
        "bunga_tabungan = 0.06\n",
        "gaji_tahunan = 240000000\n",
        "gaji_ditabung = 0.2\n",
        "bunga_bulanan = bunga_tabungan / 12\n",
        "bulan_nabung = 0\n",
        "\n",
        "while tabungan < uang_muka:\n",
        "  tabungan_bulanan = (gaji_tahunan / 12) * gaji_ditabung\n",
        "  tabungan += (tabungan * bunga_bulanan) + tabungan_bulanan\n",
        "  bulan_nabung += 1\n",
        "  print(f'Tabungan bulan ke-{bulan_nabung} sebesar {tabungan:,.2f}')\n"
      ],
      "metadata": {
        "id": "VEoo0JuLSl52",
        "outputId": "8a1c81c4-96db-453f-bcee-2f11a495e413",
        "colab": {
          "base_uri": "https://localhost:8080/"
        }
      },
      "id": "VEoo0JuLSl52",
      "execution_count": 48,
      "outputs": [
        {
          "output_type": "stream",
          "name": "stdout",
          "text": [
            "Tabungan bulan ke-1 sebesar 4,000,000.00\n",
            "Tabungan bulan ke-2 sebesar 8,020,000.00\n",
            "Tabungan bulan ke-3 sebesar 12,060,100.00\n",
            "Tabungan bulan ke-4 sebesar 16,120,400.50\n",
            "Tabungan bulan ke-5 sebesar 20,201,002.50\n",
            "Tabungan bulan ke-6 sebesar 24,302,007.52\n",
            "Tabungan bulan ke-7 sebesar 28,423,517.55\n",
            "Tabungan bulan ke-8 sebesar 32,565,635.14\n",
            "Tabungan bulan ke-9 sebesar 36,728,463.32\n",
            "Tabungan bulan ke-10 sebesar 40,912,105.63\n",
            "Tabungan bulan ke-11 sebesar 45,116,666.16\n",
            "Tabungan bulan ke-12 sebesar 49,342,249.49\n",
            "Tabungan bulan ke-13 sebesar 53,588,960.74\n",
            "Tabungan bulan ke-14 sebesar 57,856,905.54\n",
            "Tabungan bulan ke-15 sebesar 62,146,190.07\n",
            "Tabungan bulan ke-16 sebesar 66,456,921.02\n",
            "Tabungan bulan ke-17 sebesar 70,789,205.63\n",
            "Tabungan bulan ke-18 sebesar 75,143,151.65\n",
            "Tabungan bulan ke-19 sebesar 79,518,867.41\n",
            "Tabungan bulan ke-20 sebesar 83,916,461.75\n",
            "Tabungan bulan ke-21 sebesar 88,336,044.06\n",
            "Tabungan bulan ke-22 sebesar 92,777,724.28\n",
            "Tabungan bulan ke-23 sebesar 97,241,612.90\n",
            "Tabungan bulan ke-24 sebesar 101,727,820.96\n",
            "Tabungan bulan ke-25 sebesar 106,236,460.07\n",
            "Tabungan bulan ke-26 sebesar 110,767,642.37\n",
            "Tabungan bulan ke-27 sebesar 115,321,480.58\n",
            "Tabungan bulan ke-28 sebesar 119,898,087.98\n",
            "Tabungan bulan ke-29 sebesar 124,497,578.42\n",
            "Tabungan bulan ke-30 sebesar 129,120,066.32\n",
            "Tabungan bulan ke-31 sebesar 133,765,666.65\n",
            "Tabungan bulan ke-32 sebesar 138,434,494.98\n",
            "Tabungan bulan ke-33 sebesar 143,126,667.46\n",
            "Tabungan bulan ke-34 sebesar 147,842,300.79\n",
            "Tabungan bulan ke-35 sebesar 152,581,512.30\n"
          ]
        }
      ]
    },
    {
      "cell_type": "markdown",
      "id": "70d68f60",
      "metadata": {
        "id": "70d68f60"
      },
      "source": [
        "## Pengayaan\n",
        "Write a program that converts a binary (base 2) number to decimal (base 10). Your\n",
        "program should begin by reading the binary number from the user as a string. Then\n",
        "it should compute the equivalent decimal number by processing each digit in the\n",
        "binary number. Finally, your program should display the equivalent decimal number\n",
        "with an appropriate message."
      ]
    },
    {
      "cell_type": "code",
      "execution_count": null,
      "id": "2372c1b0",
      "metadata": {
        "id": "2372c1b0"
      },
      "outputs": [],
      "source": []
    }
  ],
  "metadata": {
    "kernelspec": {
      "display_name": "Python 3 (ipykernel)",
      "language": "python",
      "name": "python3"
    },
    "language_info": {
      "codemirror_mode": {
        "name": "ipython",
        "version": 3
      },
      "file_extension": ".py",
      "mimetype": "text/x-python",
      "name": "python",
      "nbconvert_exporter": "python",
      "pygments_lexer": "ipython3",
      "version": "3.9.7"
    },
    "colab": {
      "provenance": []
    }
  },
  "nbformat": 4,
  "nbformat_minor": 5
}